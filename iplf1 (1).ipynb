{
 "cells": [
  {
   "cell_type": "code",
   "execution_count": 1,
   "id": "ee5f0d31",
   "metadata": {
    "_cell_guid": "b1076dfc-b9ad-4769-8c92-a6c4dae69d19",
    "_uuid": "8f2839f25d086af736a60e9eeb907d3b93b6e0e5",
    "execution": {
     "iopub.execute_input": "2024-05-30T18:48:47.539177Z",
     "iopub.status.busy": "2024-05-30T18:48:47.538777Z",
     "iopub.status.idle": "2024-05-30T18:48:48.463631Z",
     "shell.execute_reply": "2024-05-30T18:48:48.462473Z"
    },
    "papermill": {
     "duration": 0.945595,
     "end_time": "2024-05-30T18:48:48.466283",
     "exception": false,
     "start_time": "2024-05-30T18:48:47.520688",
     "status": "completed"
    },
    "tags": []
   },
   "outputs": [
    {
     "name": "stdout",
     "output_type": "stream",
     "text": [
      "/kaggle/input/fantasy-ipl-prediction-contest/test_data_Captain (1).csv\n",
      "/kaggle/input/fantasy-ipl-prediction-contest/sample_submission.csv\n",
      "/kaggle/input/fantasy-ipl-prediction-contest/distribution.csv\n",
      "/kaggle/input/fantasy-ipl-prediction-contest/train_data_Total_FP.csv\n",
      "/kaggle/input/fantasy-ipl-prediction-contest/train_data_Captain.csv\n",
      "/kaggle/input/fantasy-ipl-prediction-contest/test_data_Total_FP (1).csv\n"
     ]
    }
   ],
   "source": [
    "# This Python 3 environment comes with many helpful analytics libraries installed\n",
    "# It is defined by the kaggle/python Docker image: https://github.com/kaggle/docker-python\n",
    "# For example, here's several helpful packages to load\n",
    "\n",
    "import numpy as np # linear algebra\n",
    "import pandas as pd # data processing, CSV file I/O (e.g. pd.read_csv)\n",
    "\n",
    "# Input data files are available in the read-only \"../input/\" directory\n",
    "# For example, running this (by clicking run or pressing Shift+Enter) will list all files under the input directory\n",
    "\n",
    "import os\n",
    "for dirname, _, filenames in os.walk('/kaggle/input'):\n",
    "    for filename in filenames:\n",
    "        print(os.path.join(dirname, filename))\n",
    "\n",
    "# You can write up to 20GB to the current directory (/kaggle/working/) that gets preserved as output when you create a version using \"Save & Run All\" \n",
    "# You can also write temporary files to /kaggle/temp/, but they won't be saved outside of the current session"
   ]
  },
  {
   "cell_type": "code",
   "execution_count": 2,
   "id": "254d56fd",
   "metadata": {
    "execution": {
     "iopub.execute_input": "2024-05-30T18:48:48.499613Z",
     "iopub.status.busy": "2024-05-30T18:48:48.498781Z",
     "iopub.status.idle": "2024-05-30T18:48:48.743913Z",
     "shell.execute_reply": "2024-05-30T18:48:48.742991Z"
    },
    "papermill": {
     "duration": 0.264971,
     "end_time": "2024-05-30T18:48:48.746708",
     "exception": false,
     "start_time": "2024-05-30T18:48:48.481737",
     "status": "completed"
    },
    "tags": []
   },
   "outputs": [],
   "source": [
    "data=pd.read_csv('/kaggle/input/fantasy-ipl-prediction-contest/train_data_Total_FP.csv')"
   ]
  },
  {
   "cell_type": "code",
   "execution_count": 3,
   "id": "cfa8b999",
   "metadata": {
    "execution": {
     "iopub.execute_input": "2024-05-30T18:48:48.780265Z",
     "iopub.status.busy": "2024-05-30T18:48:48.779635Z",
     "iopub.status.idle": "2024-05-30T18:48:48.824825Z",
     "shell.execute_reply": "2024-05-30T18:48:48.823678Z"
    },
    "papermill": {
     "duration": 0.065172,
     "end_time": "2024-05-30T18:48:48.827249",
     "exception": false,
     "start_time": "2024-05-30T18:48:48.762077",
     "status": "completed"
    },
    "tags": []
   },
   "outputs": [
    {
     "data": {
      "text/html": [
       "<div>\n",
       "<style scoped>\n",
       "    .dataframe tbody tr th:only-of-type {\n",
       "        vertical-align: middle;\n",
       "    }\n",
       "\n",
       "    .dataframe tbody tr th {\n",
       "        vertical-align: top;\n",
       "    }\n",
       "\n",
       "    .dataframe thead th {\n",
       "        text-align: right;\n",
       "    }\n",
       "</style>\n",
       "<table border=\"1\" class=\"dataframe\">\n",
       "  <thead>\n",
       "    <tr style=\"text-align: right;\">\n",
       "      <th></th>\n",
       "      <th>match_id</th>\n",
       "      <th>season</th>\n",
       "      <th>match_name</th>\n",
       "      <th>home_team</th>\n",
       "      <th>away_team</th>\n",
       "      <th>venue</th>\n",
       "      <th>batting_innings</th>\n",
       "      <th>bowling_innings</th>\n",
       "      <th>Player_name</th>\n",
       "      <th>Starting_11</th>\n",
       "      <th>...</th>\n",
       "      <th>prev_conceded</th>\n",
       "      <th>prev_Overs_Bowled</th>\n",
       "      <th>prev_catches</th>\n",
       "      <th>prev_Dream Team</th>\n",
       "      <th>prev_Total_FP</th>\n",
       "      <th>prev_overs</th>\n",
       "      <th>prev_fielding_heroics</th>\n",
       "      <th>prev_duck</th>\n",
       "      <th>luck</th>\n",
       "      <th>Total_FP</th>\n",
       "    </tr>\n",
       "  </thead>\n",
       "  <tbody>\n",
       "    <tr>\n",
       "      <th>0</th>\n",
       "      <td>1</td>\n",
       "      <td>2008</td>\n",
       "      <td>CSK v DC</td>\n",
       "      <td>CSK</td>\n",
       "      <td>DC</td>\n",
       "      <td>MA Chidambaram Stadium, Chepauk, Chennai</td>\n",
       "      <td>2.0</td>\n",
       "      <td>1.0</td>\n",
       "      <td>AB de Villiers</td>\n",
       "      <td>4.0</td>\n",
       "      <td>...</td>\n",
       "      <td>NaN</td>\n",
       "      <td>NaN</td>\n",
       "      <td>NaN</td>\n",
       "      <td>NaN</td>\n",
       "      <td>NaN</td>\n",
       "      <td>NaN</td>\n",
       "      <td>NaN</td>\n",
       "      <td>0</td>\n",
       "      <td>98</td>\n",
       "      <td>32.0</td>\n",
       "    </tr>\n",
       "    <tr>\n",
       "      <th>1</th>\n",
       "      <td>2</td>\n",
       "      <td>2008</td>\n",
       "      <td>MI v DC</td>\n",
       "      <td>MI</td>\n",
       "      <td>DC</td>\n",
       "      <td>Dr DY Patil Sports Academy, Mumbai</td>\n",
       "      <td>2.0</td>\n",
       "      <td>1.0</td>\n",
       "      <td>AB de Villiers</td>\n",
       "      <td>4.0</td>\n",
       "      <td>...</td>\n",
       "      <td>NaN</td>\n",
       "      <td>NaN</td>\n",
       "      <td>NaN</td>\n",
       "      <td>1.0</td>\n",
       "      <td>32.0</td>\n",
       "      <td>NaN</td>\n",
       "      <td>NaN</td>\n",
       "      <td>0</td>\n",
       "      <td>35</td>\n",
       "      <td>37.0</td>\n",
       "    </tr>\n",
       "    <tr>\n",
       "      <th>2</th>\n",
       "      <td>3</td>\n",
       "      <td>2008</td>\n",
       "      <td>DC v CSK</td>\n",
       "      <td>DC</td>\n",
       "      <td>CSK</td>\n",
       "      <td>Arun Jaitley Stadium, Delhi</td>\n",
       "      <td>1.0</td>\n",
       "      <td>2.0</td>\n",
       "      <td>AB de Villiers</td>\n",
       "      <td>4.0</td>\n",
       "      <td>...</td>\n",
       "      <td>NaN</td>\n",
       "      <td>NaN</td>\n",
       "      <td>1.0</td>\n",
       "      <td>0.0</td>\n",
       "      <td>37.0</td>\n",
       "      <td>NaN</td>\n",
       "      <td>0.0</td>\n",
       "      <td>0</td>\n",
       "      <td>79</td>\n",
       "      <td>18.0</td>\n",
       "    </tr>\n",
       "    <tr>\n",
       "      <th>3</th>\n",
       "      <td>4</td>\n",
       "      <td>2008</td>\n",
       "      <td>RR v DC</td>\n",
       "      <td>RR</td>\n",
       "      <td>DC</td>\n",
       "      <td>Sawai Mansingh Stadium, Jaipur</td>\n",
       "      <td>1.0</td>\n",
       "      <td>2.0</td>\n",
       "      <td>AB de Villiers</td>\n",
       "      <td>4.0</td>\n",
       "      <td>...</td>\n",
       "      <td>NaN</td>\n",
       "      <td>NaN</td>\n",
       "      <td>2.0</td>\n",
       "      <td>0.0</td>\n",
       "      <td>18.0</td>\n",
       "      <td>NaN</td>\n",
       "      <td>0.0</td>\n",
       "      <td>1</td>\n",
       "      <td>33</td>\n",
       "      <td>36.0</td>\n",
       "    </tr>\n",
       "    <tr>\n",
       "      <th>4</th>\n",
       "      <td>5</td>\n",
       "      <td>2008</td>\n",
       "      <td>KKR v DC</td>\n",
       "      <td>KKR</td>\n",
       "      <td>DC</td>\n",
       "      <td>Eden Gardens, Kolkata</td>\n",
       "      <td>2.0</td>\n",
       "      <td>1.0</td>\n",
       "      <td>AB de Villiers</td>\n",
       "      <td>4.0</td>\n",
       "      <td>...</td>\n",
       "      <td>NaN</td>\n",
       "      <td>NaN</td>\n",
       "      <td>0.0</td>\n",
       "      <td>1.0</td>\n",
       "      <td>36.0</td>\n",
       "      <td>NaN</td>\n",
       "      <td>1.0</td>\n",
       "      <td>0</td>\n",
       "      <td>82</td>\n",
       "      <td>13.0</td>\n",
       "    </tr>\n",
       "  </tbody>\n",
       "</table>\n",
       "<p>5 rows × 27 columns</p>\n",
       "</div>"
      ],
      "text/plain": [
       "   match_id  season match_name home_team away_team  \\\n",
       "0         1    2008   CSK v DC       CSK        DC   \n",
       "1         2    2008    MI v DC        MI        DC   \n",
       "2         3    2008   DC v CSK        DC       CSK   \n",
       "3         4    2008    RR v DC        RR        DC   \n",
       "4         5    2008   KKR v DC       KKR        DC   \n",
       "\n",
       "                                      venue  batting_innings  bowling_innings  \\\n",
       "0  MA Chidambaram Stadium, Chepauk, Chennai              2.0              1.0   \n",
       "1        Dr DY Patil Sports Academy, Mumbai              2.0              1.0   \n",
       "2               Arun Jaitley Stadium, Delhi              1.0              2.0   \n",
       "3            Sawai Mansingh Stadium, Jaipur              1.0              2.0   \n",
       "4                     Eden Gardens, Kolkata              2.0              1.0   \n",
       "\n",
       "      Player_name  Starting_11  ... prev_conceded prev_Overs_Bowled  \\\n",
       "0  AB de Villiers          4.0  ...           NaN               NaN   \n",
       "1  AB de Villiers          4.0  ...           NaN               NaN   \n",
       "2  AB de Villiers          4.0  ...           NaN               NaN   \n",
       "3  AB de Villiers          4.0  ...           NaN               NaN   \n",
       "4  AB de Villiers          4.0  ...           NaN               NaN   \n",
       "\n",
       "   prev_catches  prev_Dream Team  prev_Total_FP  prev_overs  \\\n",
       "0           NaN              NaN            NaN         NaN   \n",
       "1           NaN              1.0           32.0         NaN   \n",
       "2           1.0              0.0           37.0         NaN   \n",
       "3           2.0              0.0           18.0         NaN   \n",
       "4           0.0              1.0           36.0         NaN   \n",
       "\n",
       "   prev_fielding_heroics  prev_duck luck  Total_FP  \n",
       "0                    NaN          0   98      32.0  \n",
       "1                    NaN          0   35      37.0  \n",
       "2                    0.0          0   79      18.0  \n",
       "3                    0.0          1   33      36.0  \n",
       "4                    1.0          0   82      13.0  \n",
       "\n",
       "[5 rows x 27 columns]"
      ]
     },
     "execution_count": 3,
     "metadata": {},
     "output_type": "execute_result"
    }
   ],
   "source": [
    "data.head()"
   ]
  },
  {
   "cell_type": "code",
   "execution_count": 4,
   "id": "fe9533a3",
   "metadata": {
    "execution": {
     "iopub.execute_input": "2024-05-30T18:48:48.861625Z",
     "iopub.status.busy": "2024-05-30T18:48:48.861215Z",
     "iopub.status.idle": "2024-05-30T18:48:48.867642Z",
     "shell.execute_reply": "2024-05-30T18:48:48.866547Z"
    },
    "papermill": {
     "duration": 0.025976,
     "end_time": "2024-05-30T18:48:48.870003",
     "exception": false,
     "start_time": "2024-05-30T18:48:48.844027",
     "status": "completed"
    },
    "tags": []
   },
   "outputs": [
    {
     "data": {
      "text/plain": [
       "(21616, 27)"
      ]
     },
     "execution_count": 4,
     "metadata": {},
     "output_type": "execute_result"
    }
   ],
   "source": [
    "data.shape"
   ]
  },
  {
   "cell_type": "code",
   "execution_count": 5,
   "id": "82bbac7e",
   "metadata": {
    "execution": {
     "iopub.execute_input": "2024-05-30T18:48:48.903730Z",
     "iopub.status.busy": "2024-05-30T18:48:48.903090Z",
     "iopub.status.idle": "2024-05-30T18:48:48.943689Z",
     "shell.execute_reply": "2024-05-30T18:48:48.942520Z"
    },
    "papermill": {
     "duration": 0.060629,
     "end_time": "2024-05-30T18:48:48.946395",
     "exception": false,
     "start_time": "2024-05-30T18:48:48.885766",
     "status": "completed"
    },
    "tags": []
   },
   "outputs": [
    {
     "name": "stdout",
     "output_type": "stream",
     "text": [
      "<class 'pandas.core.frame.DataFrame'>\n",
      "RangeIndex: 21616 entries, 0 to 21615\n",
      "Data columns (total 27 columns):\n",
      " #   Column                 Non-Null Count  Dtype  \n",
      "---  ------                 --------------  -----  \n",
      " 0   match_id               21616 non-null  int64  \n",
      " 1   season                 21616 non-null  int64  \n",
      " 2   match_name             21616 non-null  object \n",
      " 3   home_team              21616 non-null  object \n",
      " 4   away_team              21616 non-null  object \n",
      " 5   venue                  21616 non-null  object \n",
      " 6   batting_innings        21616 non-null  float64\n",
      " 7   bowling_innings        21616 non-null  float64\n",
      " 8   Player_name            21616 non-null  object \n",
      " 9   Starting_11            21616 non-null  float64\n",
      " 10  bowling_team_bowl      11716 non-null  object \n",
      " 11  batting_team_bat       15154 non-null  object \n",
      " 12  prev_runs              14699 non-null  float64\n",
      " 13  prev_balls             14699 non-null  float64\n",
      " 14  prev_sixes             14699 non-null  float64\n",
      " 15  prev_fours             14699 non-null  float64\n",
      " 16  prev_wickets           11335 non-null  float64\n",
      " 17  prev_conceded          11335 non-null  float64\n",
      " 18  prev_Overs_Bowled      11335 non-null  object \n",
      " 19  prev_catches           6682 non-null   float64\n",
      " 20  prev_Dream Team        20939 non-null  float64\n",
      " 21  prev_Total_FP          20939 non-null  float64\n",
      " 22  prev_overs             11335 non-null  float64\n",
      " 23  prev_fielding_heroics  6682 non-null   float64\n",
      " 24  prev_duck              21616 non-null  int64  \n",
      " 25  luck                   21616 non-null  int64  \n",
      " 26  Total_FP               21616 non-null  float64\n",
      "dtypes: float64(15), int64(4), object(8)\n",
      "memory usage: 4.5+ MB\n"
     ]
    }
   ],
   "source": [
    "data.info()"
   ]
  },
  {
   "cell_type": "code",
   "execution_count": 6,
   "id": "2cdacbfe",
   "metadata": {
    "execution": {
     "iopub.execute_input": "2024-05-30T18:48:48.980475Z",
     "iopub.status.busy": "2024-05-30T18:48:48.980075Z",
     "iopub.status.idle": "2024-05-30T18:48:49.006798Z",
     "shell.execute_reply": "2024-05-30T18:48:49.005733Z"
    },
    "papermill": {
     "duration": 0.047233,
     "end_time": "2024-05-30T18:48:49.009915",
     "exception": false,
     "start_time": "2024-05-30T18:48:48.962682",
     "status": "completed"
    },
    "tags": []
   },
   "outputs": [
    {
     "name": "stderr",
     "output_type": "stream",
     "text": [
      "/tmp/ipykernel_18/1869193921.py:2: FutureWarning: A value is trying to be set on a copy of a DataFrame or Series through chained assignment using an inplace method.\n",
      "The behavior will change in pandas 3.0. This inplace method will never work because the intermediate object on which we are setting values always behaves as a copy.\n",
      "\n",
      "For example, when doing 'df[col].method(value, inplace=True)', try using 'df.method({col: value}, inplace=True)' or df[col] = df[col].method(value) instead, to perform the operation inplace on the original object.\n",
      "\n",
      "\n",
      "  data['bowling_team_bowl'].fillna('None', inplace=True)\n",
      "/tmp/ipykernel_18/1869193921.py:3: FutureWarning: A value is trying to be set on a copy of a DataFrame or Series through chained assignment using an inplace method.\n",
      "The behavior will change in pandas 3.0. This inplace method will never work because the intermediate object on which we are setting values always behaves as a copy.\n",
      "\n",
      "For example, when doing 'df[col].method(value, inplace=True)', try using 'df.method({col: value}, inplace=True)' or df[col] = df[col].method(value) instead, to perform the operation inplace on the original object.\n",
      "\n",
      "\n",
      "  data['batting_team_bat'].fillna('None', inplace=True)\n",
      "/tmp/ipykernel_18/1869193921.py:4: FutureWarning: A value is trying to be set on a copy of a DataFrame or Series through chained assignment using an inplace method.\n",
      "The behavior will change in pandas 3.0. This inplace method will never work because the intermediate object on which we are setting values always behaves as a copy.\n",
      "\n",
      "For example, when doing 'df[col].method(value, inplace=True)', try using 'df.method({col: value}, inplace=True)' or df[col] = df[col].method(value) instead, to perform the operation inplace on the original object.\n",
      "\n",
      "\n",
      "  data['prev_runs'].fillna(data['prev_runs'].mean(), inplace=True)\n",
      "/tmp/ipykernel_18/1869193921.py:5: FutureWarning: A value is trying to be set on a copy of a DataFrame or Series through chained assignment using an inplace method.\n",
      "The behavior will change in pandas 3.0. This inplace method will never work because the intermediate object on which we are setting values always behaves as a copy.\n",
      "\n",
      "For example, when doing 'df[col].method(value, inplace=True)', try using 'df.method({col: value}, inplace=True)' or df[col] = df[col].method(value) instead, to perform the operation inplace on the original object.\n",
      "\n",
      "\n",
      "  data['prev_balls'].fillna(data['prev_balls'].mean(), inplace=True)\n",
      "/tmp/ipykernel_18/1869193921.py:6: FutureWarning: A value is trying to be set on a copy of a DataFrame or Series through chained assignment using an inplace method.\n",
      "The behavior will change in pandas 3.0. This inplace method will never work because the intermediate object on which we are setting values always behaves as a copy.\n",
      "\n",
      "For example, when doing 'df[col].method(value, inplace=True)', try using 'df.method({col: value}, inplace=True)' or df[col] = df[col].method(value) instead, to perform the operation inplace on the original object.\n",
      "\n",
      "\n",
      "  data['prev_sixes'].fillna(0, inplace=True)\n",
      "/tmp/ipykernel_18/1869193921.py:7: FutureWarning: A value is trying to be set on a copy of a DataFrame or Series through chained assignment using an inplace method.\n",
      "The behavior will change in pandas 3.0. This inplace method will never work because the intermediate object on which we are setting values always behaves as a copy.\n",
      "\n",
      "For example, when doing 'df[col].method(value, inplace=True)', try using 'df.method({col: value}, inplace=True)' or df[col] = df[col].method(value) instead, to perform the operation inplace on the original object.\n",
      "\n",
      "\n",
      "  data['prev_fours'].fillna(0, inplace=True)\n",
      "/tmp/ipykernel_18/1869193921.py:8: FutureWarning: A value is trying to be set on a copy of a DataFrame or Series through chained assignment using an inplace method.\n",
      "The behavior will change in pandas 3.0. This inplace method will never work because the intermediate object on which we are setting values always behaves as a copy.\n",
      "\n",
      "For example, when doing 'df[col].method(value, inplace=True)', try using 'df.method({col: value}, inplace=True)' or df[col] = df[col].method(value) instead, to perform the operation inplace on the original object.\n",
      "\n",
      "\n",
      "  data['prev_wickets'].fillna(0, inplace=True)\n",
      "/tmp/ipykernel_18/1869193921.py:9: FutureWarning: A value is trying to be set on a copy of a DataFrame or Series through chained assignment using an inplace method.\n",
      "The behavior will change in pandas 3.0. This inplace method will never work because the intermediate object on which we are setting values always behaves as a copy.\n",
      "\n",
      "For example, when doing 'df[col].method(value, inplace=True)', try using 'df.method({col: value}, inplace=True)' or df[col] = df[col].method(value) instead, to perform the operation inplace on the original object.\n",
      "\n",
      "\n",
      "  data['prev_conceded'].fillna(data['prev_conceded'].mean(), inplace=True)\n",
      "/tmp/ipykernel_18/1869193921.py:10: FutureWarning: A value is trying to be set on a copy of a DataFrame or Series through chained assignment using an inplace method.\n",
      "The behavior will change in pandas 3.0. This inplace method will never work because the intermediate object on which we are setting values always behaves as a copy.\n",
      "\n",
      "For example, when doing 'df[col].method(value, inplace=True)', try using 'df.method({col: value}, inplace=True)' or df[col] = df[col].method(value) instead, to perform the operation inplace on the original object.\n",
      "\n",
      "\n",
      "  data['prev_Overs_Bowled'].fillna('0', inplace=True)\n",
      "/tmp/ipykernel_18/1869193921.py:11: FutureWarning: A value is trying to be set on a copy of a DataFrame or Series through chained assignment using an inplace method.\n",
      "The behavior will change in pandas 3.0. This inplace method will never work because the intermediate object on which we are setting values always behaves as a copy.\n",
      "\n",
      "For example, when doing 'df[col].method(value, inplace=True)', try using 'df.method({col: value}, inplace=True)' or df[col] = df[col].method(value) instead, to perform the operation inplace on the original object.\n",
      "\n",
      "\n",
      "  data['prev_catches'].fillna(0, inplace=True)\n",
      "/tmp/ipykernel_18/1869193921.py:12: FutureWarning: A value is trying to be set on a copy of a DataFrame or Series through chained assignment using an inplace method.\n",
      "The behavior will change in pandas 3.0. This inplace method will never work because the intermediate object on which we are setting values always behaves as a copy.\n",
      "\n",
      "For example, when doing 'df[col].method(value, inplace=True)', try using 'df.method({col: value}, inplace=True)' or df[col] = df[col].method(value) instead, to perform the operation inplace on the original object.\n",
      "\n",
      "\n",
      "  data['prev_Dream Team'].fillna(0, inplace=True)\n",
      "/tmp/ipykernel_18/1869193921.py:13: FutureWarning: A value is trying to be set on a copy of a DataFrame or Series through chained assignment using an inplace method.\n",
      "The behavior will change in pandas 3.0. This inplace method will never work because the intermediate object on which we are setting values always behaves as a copy.\n",
      "\n",
      "For example, when doing 'df[col].method(value, inplace=True)', try using 'df.method({col: value}, inplace=True)' or df[col] = df[col].method(value) instead, to perform the operation inplace on the original object.\n",
      "\n",
      "\n",
      "  data['prev_Total_FP'].fillna(data['prev_Total_FP'].mean(), inplace=True)\n",
      "/tmp/ipykernel_18/1869193921.py:14: FutureWarning: A value is trying to be set on a copy of a DataFrame or Series through chained assignment using an inplace method.\n",
      "The behavior will change in pandas 3.0. This inplace method will never work because the intermediate object on which we are setting values always behaves as a copy.\n",
      "\n",
      "For example, when doing 'df[col].method(value, inplace=True)', try using 'df.method({col: value}, inplace=True)' or df[col] = df[col].method(value) instead, to perform the operation inplace on the original object.\n",
      "\n",
      "\n",
      "  data['prev_overs'].fillna('0', inplace=True)\n",
      "/tmp/ipykernel_18/1869193921.py:14: FutureWarning: Setting an item of incompatible dtype is deprecated and will raise an error in a future version of pandas. Value '0' has dtype incompatible with float64, please explicitly cast to a compatible dtype first.\n",
      "  data['prev_overs'].fillna('0', inplace=True)\n",
      "/tmp/ipykernel_18/1869193921.py:15: FutureWarning: A value is trying to be set on a copy of a DataFrame or Series through chained assignment using an inplace method.\n",
      "The behavior will change in pandas 3.0. This inplace method will never work because the intermediate object on which we are setting values always behaves as a copy.\n",
      "\n",
      "For example, when doing 'df[col].method(value, inplace=True)', try using 'df.method({col: value}, inplace=True)' or df[col] = df[col].method(value) instead, to perform the operation inplace on the original object.\n",
      "\n",
      "\n",
      "  data['prev_fielding_heroics'].fillna(0, inplace=True)\n"
     ]
    }
   ],
   "source": [
    "\n",
    "# Handling missing values by filling them with suitable strategies\n",
    "data['bowling_team_bowl'].fillna('None', inplace=True)\n",
    "data['batting_team_bat'].fillna('None', inplace=True)\n",
    "data['prev_runs'].fillna(data['prev_runs'].mean(), inplace=True)\n",
    "data['prev_balls'].fillna(data['prev_balls'].mean(), inplace=True)\n",
    "data['prev_sixes'].fillna(0, inplace=True)\n",
    "data['prev_fours'].fillna(0, inplace=True)\n",
    "data['prev_wickets'].fillna(0, inplace=True)\n",
    "data['prev_conceded'].fillna(data['prev_conceded'].mean(), inplace=True)\n",
    "data['prev_Overs_Bowled'].fillna('0', inplace=True)\n",
    "data['prev_catches'].fillna(0, inplace=True)\n",
    "data['prev_Dream Team'].fillna(0, inplace=True)\n",
    "data['prev_Total_FP'].fillna(data['prev_Total_FP'].mean(), inplace=True)\n",
    "data['prev_overs'].fillna('0', inplace=True)\n",
    "data['prev_fielding_heroics'].fillna(0, inplace=True)\n"
   ]
  },
  {
   "cell_type": "code",
   "execution_count": 7,
   "id": "b442e609",
   "metadata": {
    "execution": {
     "iopub.execute_input": "2024-05-30T18:48:49.046986Z",
     "iopub.status.busy": "2024-05-30T18:48:49.046579Z",
     "iopub.status.idle": "2024-05-30T18:48:49.080207Z",
     "shell.execute_reply": "2024-05-30T18:48:49.078448Z"
    },
    "papermill": {
     "duration": 0.056215,
     "end_time": "2024-05-30T18:48:49.082727",
     "exception": false,
     "start_time": "2024-05-30T18:48:49.026512",
     "status": "completed"
    },
    "tags": []
   },
   "outputs": [
    {
     "name": "stdout",
     "output_type": "stream",
     "text": [
      "<class 'pandas.core.frame.DataFrame'>\n",
      "RangeIndex: 21616 entries, 0 to 21615\n",
      "Data columns (total 27 columns):\n",
      " #   Column                 Non-Null Count  Dtype  \n",
      "---  ------                 --------------  -----  \n",
      " 0   match_id               21616 non-null  int64  \n",
      " 1   season                 21616 non-null  int64  \n",
      " 2   match_name             21616 non-null  object \n",
      " 3   home_team              21616 non-null  object \n",
      " 4   away_team              21616 non-null  object \n",
      " 5   venue                  21616 non-null  object \n",
      " 6   batting_innings        21616 non-null  float64\n",
      " 7   bowling_innings        21616 non-null  float64\n",
      " 8   Player_name            21616 non-null  object \n",
      " 9   Starting_11            21616 non-null  float64\n",
      " 10  bowling_team_bowl      21616 non-null  object \n",
      " 11  batting_team_bat       21616 non-null  object \n",
      " 12  prev_runs              21616 non-null  float64\n",
      " 13  prev_balls             21616 non-null  float64\n",
      " 14  prev_sixes             21616 non-null  float64\n",
      " 15  prev_fours             21616 non-null  float64\n",
      " 16  prev_wickets           21616 non-null  float64\n",
      " 17  prev_conceded          21616 non-null  float64\n",
      " 18  prev_Overs_Bowled      21616 non-null  object \n",
      " 19  prev_catches           21616 non-null  float64\n",
      " 20  prev_Dream Team        21616 non-null  float64\n",
      " 21  prev_Total_FP          21616 non-null  float64\n",
      " 22  prev_overs             21616 non-null  object \n",
      " 23  prev_fielding_heroics  21616 non-null  float64\n",
      " 24  prev_duck              21616 non-null  int64  \n",
      " 25  luck                   21616 non-null  int64  \n",
      " 26  Total_FP               21616 non-null  float64\n",
      "dtypes: float64(14), int64(4), object(9)\n",
      "memory usage: 4.5+ MB\n"
     ]
    }
   ],
   "source": [
    "data.info()"
   ]
  },
  {
   "cell_type": "code",
   "execution_count": 8,
   "id": "7fb94dad",
   "metadata": {
    "execution": {
     "iopub.execute_input": "2024-05-30T18:48:49.118373Z",
     "iopub.status.busy": "2024-05-30T18:48:49.117660Z",
     "iopub.status.idle": "2024-05-30T18:48:49.167905Z",
     "shell.execute_reply": "2024-05-30T18:48:49.167006Z"
    },
    "papermill": {
     "duration": 0.0706,
     "end_time": "2024-05-30T18:48:49.170326",
     "exception": false,
     "start_time": "2024-05-30T18:48:49.099726",
     "status": "completed"
    },
    "tags": []
   },
   "outputs": [
    {
     "data": {
      "text/html": [
       "<div>\n",
       "<style scoped>\n",
       "    .dataframe tbody tr th:only-of-type {\n",
       "        vertical-align: middle;\n",
       "    }\n",
       "\n",
       "    .dataframe tbody tr th {\n",
       "        vertical-align: top;\n",
       "    }\n",
       "\n",
       "    .dataframe thead th {\n",
       "        text-align: right;\n",
       "    }\n",
       "</style>\n",
       "<table border=\"1\" class=\"dataframe\">\n",
       "  <thead>\n",
       "    <tr style=\"text-align: right;\">\n",
       "      <th></th>\n",
       "      <th>match_id</th>\n",
       "      <th>season</th>\n",
       "      <th>match_name</th>\n",
       "      <th>home_team</th>\n",
       "      <th>away_team</th>\n",
       "      <th>venue</th>\n",
       "      <th>batting_innings</th>\n",
       "      <th>bowling_innings</th>\n",
       "      <th>Player_name</th>\n",
       "      <th>Starting_11</th>\n",
       "      <th>...</th>\n",
       "      <th>prev_conceded</th>\n",
       "      <th>prev_Overs_Bowled</th>\n",
       "      <th>prev_catches</th>\n",
       "      <th>prev_Dream Team</th>\n",
       "      <th>prev_Total_FP</th>\n",
       "      <th>prev_overs</th>\n",
       "      <th>prev_fielding_heroics</th>\n",
       "      <th>prev_duck</th>\n",
       "      <th>luck</th>\n",
       "      <th>Total_FP</th>\n",
       "    </tr>\n",
       "  </thead>\n",
       "  <tbody>\n",
       "    <tr>\n",
       "      <th>0</th>\n",
       "      <td>1</td>\n",
       "      <td>2008</td>\n",
       "      <td>CSK v DC</td>\n",
       "      <td>CSK</td>\n",
       "      <td>DC</td>\n",
       "      <td>MA Chidambaram Stadium, Chepauk, Chennai</td>\n",
       "      <td>2.0</td>\n",
       "      <td>1.0</td>\n",
       "      <td>AB de Villiers</td>\n",
       "      <td>4.0</td>\n",
       "      <td>...</td>\n",
       "      <td>25.93251</td>\n",
       "      <td>0</td>\n",
       "      <td>0.0</td>\n",
       "      <td>0.0</td>\n",
       "      <td>39.281389</td>\n",
       "      <td>0</td>\n",
       "      <td>0.0</td>\n",
       "      <td>0</td>\n",
       "      <td>98</td>\n",
       "      <td>32.0</td>\n",
       "    </tr>\n",
       "    <tr>\n",
       "      <th>1</th>\n",
       "      <td>2</td>\n",
       "      <td>2008</td>\n",
       "      <td>MI v DC</td>\n",
       "      <td>MI</td>\n",
       "      <td>DC</td>\n",
       "      <td>Dr DY Patil Sports Academy, Mumbai</td>\n",
       "      <td>2.0</td>\n",
       "      <td>1.0</td>\n",
       "      <td>AB de Villiers</td>\n",
       "      <td>4.0</td>\n",
       "      <td>...</td>\n",
       "      <td>25.93251</td>\n",
       "      <td>0</td>\n",
       "      <td>0.0</td>\n",
       "      <td>1.0</td>\n",
       "      <td>32.000000</td>\n",
       "      <td>0</td>\n",
       "      <td>0.0</td>\n",
       "      <td>0</td>\n",
       "      <td>35</td>\n",
       "      <td>37.0</td>\n",
       "    </tr>\n",
       "    <tr>\n",
       "      <th>2</th>\n",
       "      <td>3</td>\n",
       "      <td>2008</td>\n",
       "      <td>DC v CSK</td>\n",
       "      <td>DC</td>\n",
       "      <td>CSK</td>\n",
       "      <td>Arun Jaitley Stadium, Delhi</td>\n",
       "      <td>1.0</td>\n",
       "      <td>2.0</td>\n",
       "      <td>AB de Villiers</td>\n",
       "      <td>4.0</td>\n",
       "      <td>...</td>\n",
       "      <td>25.93251</td>\n",
       "      <td>0</td>\n",
       "      <td>1.0</td>\n",
       "      <td>0.0</td>\n",
       "      <td>37.000000</td>\n",
       "      <td>0</td>\n",
       "      <td>0.0</td>\n",
       "      <td>0</td>\n",
       "      <td>79</td>\n",
       "      <td>18.0</td>\n",
       "    </tr>\n",
       "    <tr>\n",
       "      <th>3</th>\n",
       "      <td>4</td>\n",
       "      <td>2008</td>\n",
       "      <td>RR v DC</td>\n",
       "      <td>RR</td>\n",
       "      <td>DC</td>\n",
       "      <td>Sawai Mansingh Stadium, Jaipur</td>\n",
       "      <td>1.0</td>\n",
       "      <td>2.0</td>\n",
       "      <td>AB de Villiers</td>\n",
       "      <td>4.0</td>\n",
       "      <td>...</td>\n",
       "      <td>25.93251</td>\n",
       "      <td>0</td>\n",
       "      <td>2.0</td>\n",
       "      <td>0.0</td>\n",
       "      <td>18.000000</td>\n",
       "      <td>0</td>\n",
       "      <td>0.0</td>\n",
       "      <td>1</td>\n",
       "      <td>33</td>\n",
       "      <td>36.0</td>\n",
       "    </tr>\n",
       "    <tr>\n",
       "      <th>4</th>\n",
       "      <td>5</td>\n",
       "      <td>2008</td>\n",
       "      <td>KKR v DC</td>\n",
       "      <td>KKR</td>\n",
       "      <td>DC</td>\n",
       "      <td>Eden Gardens, Kolkata</td>\n",
       "      <td>2.0</td>\n",
       "      <td>1.0</td>\n",
       "      <td>AB de Villiers</td>\n",
       "      <td>4.0</td>\n",
       "      <td>...</td>\n",
       "      <td>25.93251</td>\n",
       "      <td>0</td>\n",
       "      <td>0.0</td>\n",
       "      <td>1.0</td>\n",
       "      <td>36.000000</td>\n",
       "      <td>0</td>\n",
       "      <td>1.0</td>\n",
       "      <td>0</td>\n",
       "      <td>82</td>\n",
       "      <td>13.0</td>\n",
       "    </tr>\n",
       "    <tr>\n",
       "      <th>...</th>\n",
       "      <td>...</td>\n",
       "      <td>...</td>\n",
       "      <td>...</td>\n",
       "      <td>...</td>\n",
       "      <td>...</td>\n",
       "      <td>...</td>\n",
       "      <td>...</td>\n",
       "      <td>...</td>\n",
       "      <td>...</td>\n",
       "      <td>...</td>\n",
       "      <td>...</td>\n",
       "      <td>...</td>\n",
       "      <td>...</td>\n",
       "      <td>...</td>\n",
       "      <td>...</td>\n",
       "      <td>...</td>\n",
       "      <td>...</td>\n",
       "      <td>...</td>\n",
       "      <td>...</td>\n",
       "      <td>...</td>\n",
       "      <td>...</td>\n",
       "    </tr>\n",
       "    <tr>\n",
       "      <th>21611</th>\n",
       "      <td>22358</td>\n",
       "      <td>2023</td>\n",
       "      <td>PBKS v RR</td>\n",
       "      <td>PBKS</td>\n",
       "      <td>RR</td>\n",
       "      <td>Himachal Pradesh Cricket Association Stadium, ...</td>\n",
       "      <td>2.0</td>\n",
       "      <td>1.0</td>\n",
       "      <td>substitute_fielder</td>\n",
       "      <td>4.0</td>\n",
       "      <td>...</td>\n",
       "      <td>25.93251</td>\n",
       "      <td>0</td>\n",
       "      <td>0.0</td>\n",
       "      <td>0.0</td>\n",
       "      <td>20.000000</td>\n",
       "      <td>0</td>\n",
       "      <td>0.0</td>\n",
       "      <td>0</td>\n",
       "      <td>3</td>\n",
       "      <td>12.0</td>\n",
       "    </tr>\n",
       "    <tr>\n",
       "      <th>21612</th>\n",
       "      <td>22359</td>\n",
       "      <td>2023</td>\n",
       "      <td>MI v SRH</td>\n",
       "      <td>MI</td>\n",
       "      <td>SRH</td>\n",
       "      <td>Wankhede Stadium, Mumbai</td>\n",
       "      <td>2.0</td>\n",
       "      <td>1.0</td>\n",
       "      <td>substitute_fielder</td>\n",
       "      <td>4.0</td>\n",
       "      <td>...</td>\n",
       "      <td>25.93251</td>\n",
       "      <td>0</td>\n",
       "      <td>0.0</td>\n",
       "      <td>0.0</td>\n",
       "      <td>12.000000</td>\n",
       "      <td>0</td>\n",
       "      <td>0.0</td>\n",
       "      <td>0</td>\n",
       "      <td>80</td>\n",
       "      <td>12.0</td>\n",
       "    </tr>\n",
       "    <tr>\n",
       "      <th>21613</th>\n",
       "      <td>22360</td>\n",
       "      <td>2023</td>\n",
       "      <td>RCB v GT</td>\n",
       "      <td>RCB</td>\n",
       "      <td>GT</td>\n",
       "      <td>M.Chinnaswamy Stadium, Bengaluru</td>\n",
       "      <td>1.0</td>\n",
       "      <td>2.0</td>\n",
       "      <td>substitute_fielder</td>\n",
       "      <td>4.0</td>\n",
       "      <td>...</td>\n",
       "      <td>25.93251</td>\n",
       "      <td>0</td>\n",
       "      <td>0.0</td>\n",
       "      <td>0.0</td>\n",
       "      <td>12.000000</td>\n",
       "      <td>0</td>\n",
       "      <td>0.0</td>\n",
       "      <td>0</td>\n",
       "      <td>4</td>\n",
       "      <td>20.0</td>\n",
       "    </tr>\n",
       "    <tr>\n",
       "      <th>21614</th>\n",
       "      <td>22361</td>\n",
       "      <td>2023</td>\n",
       "      <td>CSK v GT</td>\n",
       "      <td>CSK</td>\n",
       "      <td>GT</td>\n",
       "      <td>MA Chidambaram Stadium, Chepauk, Chennai</td>\n",
       "      <td>1.0</td>\n",
       "      <td>2.0</td>\n",
       "      <td>substitute_fielder</td>\n",
       "      <td>4.0</td>\n",
       "      <td>...</td>\n",
       "      <td>25.93251</td>\n",
       "      <td>0</td>\n",
       "      <td>0.0</td>\n",
       "      <td>0.0</td>\n",
       "      <td>20.000000</td>\n",
       "      <td>0</td>\n",
       "      <td>0.0</td>\n",
       "      <td>0</td>\n",
       "      <td>57</td>\n",
       "      <td>16.0</td>\n",
       "    </tr>\n",
       "    <tr>\n",
       "      <th>21615</th>\n",
       "      <td>22362</td>\n",
       "      <td>2018</td>\n",
       "      <td>MI v RCB</td>\n",
       "      <td>MI</td>\n",
       "      <td>RCB</td>\n",
       "      <td>Wankhede Stadium, Mumbai</td>\n",
       "      <td>1.0</td>\n",
       "      <td>2.0</td>\n",
       "      <td>substitute_stumpig</td>\n",
       "      <td>4.0</td>\n",
       "      <td>...</td>\n",
       "      <td>25.93251</td>\n",
       "      <td>0</td>\n",
       "      <td>0.0</td>\n",
       "      <td>0.0</td>\n",
       "      <td>39.281389</td>\n",
       "      <td>0</td>\n",
       "      <td>0.0</td>\n",
       "      <td>0</td>\n",
       "      <td>80</td>\n",
       "      <td>16.0</td>\n",
       "    </tr>\n",
       "  </tbody>\n",
       "</table>\n",
       "<p>21616 rows × 27 columns</p>\n",
       "</div>"
      ],
      "text/plain": [
       "       match_id  season match_name home_team away_team  \\\n",
       "0             1    2008   CSK v DC       CSK        DC   \n",
       "1             2    2008    MI v DC        MI        DC   \n",
       "2             3    2008   DC v CSK        DC       CSK   \n",
       "3             4    2008    RR v DC        RR        DC   \n",
       "4             5    2008   KKR v DC       KKR        DC   \n",
       "...         ...     ...        ...       ...       ...   \n",
       "21611     22358    2023  PBKS v RR      PBKS        RR   \n",
       "21612     22359    2023   MI v SRH        MI       SRH   \n",
       "21613     22360    2023   RCB v GT       RCB        GT   \n",
       "21614     22361    2023   CSK v GT       CSK        GT   \n",
       "21615     22362    2018   MI v RCB        MI       RCB   \n",
       "\n",
       "                                                   venue  batting_innings  \\\n",
       "0               MA Chidambaram Stadium, Chepauk, Chennai              2.0   \n",
       "1                     Dr DY Patil Sports Academy, Mumbai              2.0   \n",
       "2                            Arun Jaitley Stadium, Delhi              1.0   \n",
       "3                         Sawai Mansingh Stadium, Jaipur              1.0   \n",
       "4                                  Eden Gardens, Kolkata              2.0   \n",
       "...                                                  ...              ...   \n",
       "21611  Himachal Pradesh Cricket Association Stadium, ...              2.0   \n",
       "21612                           Wankhede Stadium, Mumbai              2.0   \n",
       "21613                   M.Chinnaswamy Stadium, Bengaluru              1.0   \n",
       "21614           MA Chidambaram Stadium, Chepauk, Chennai              1.0   \n",
       "21615                           Wankhede Stadium, Mumbai              1.0   \n",
       "\n",
       "       bowling_innings         Player_name  Starting_11  ... prev_conceded  \\\n",
       "0                  1.0      AB de Villiers          4.0  ...      25.93251   \n",
       "1                  1.0      AB de Villiers          4.0  ...      25.93251   \n",
       "2                  2.0      AB de Villiers          4.0  ...      25.93251   \n",
       "3                  2.0      AB de Villiers          4.0  ...      25.93251   \n",
       "4                  1.0      AB de Villiers          4.0  ...      25.93251   \n",
       "...                ...                 ...          ...  ...           ...   \n",
       "21611              1.0  substitute_fielder          4.0  ...      25.93251   \n",
       "21612              1.0  substitute_fielder          4.0  ...      25.93251   \n",
       "21613              2.0  substitute_fielder          4.0  ...      25.93251   \n",
       "21614              2.0  substitute_fielder          4.0  ...      25.93251   \n",
       "21615              2.0  substitute_stumpig          4.0  ...      25.93251   \n",
       "\n",
       "      prev_Overs_Bowled  prev_catches  prev_Dream Team  prev_Total_FP  \\\n",
       "0                     0           0.0              0.0      39.281389   \n",
       "1                     0           0.0              1.0      32.000000   \n",
       "2                     0           1.0              0.0      37.000000   \n",
       "3                     0           2.0              0.0      18.000000   \n",
       "4                     0           0.0              1.0      36.000000   \n",
       "...                 ...           ...              ...            ...   \n",
       "21611                 0           0.0              0.0      20.000000   \n",
       "21612                 0           0.0              0.0      12.000000   \n",
       "21613                 0           0.0              0.0      12.000000   \n",
       "21614                 0           0.0              0.0      20.000000   \n",
       "21615                 0           0.0              0.0      39.281389   \n",
       "\n",
       "       prev_overs  prev_fielding_heroics  prev_duck luck  Total_FP  \n",
       "0               0                    0.0          0   98      32.0  \n",
       "1               0                    0.0          0   35      37.0  \n",
       "2               0                    0.0          0   79      18.0  \n",
       "3               0                    0.0          1   33      36.0  \n",
       "4               0                    1.0          0   82      13.0  \n",
       "...           ...                    ...        ...  ...       ...  \n",
       "21611           0                    0.0          0    3      12.0  \n",
       "21612           0                    0.0          0   80      12.0  \n",
       "21613           0                    0.0          0    4      20.0  \n",
       "21614           0                    0.0          0   57      16.0  \n",
       "21615           0                    0.0          0   80      16.0  \n",
       "\n",
       "[21616 rows x 27 columns]"
      ]
     },
     "execution_count": 8,
     "metadata": {},
     "output_type": "execute_result"
    }
   ],
   "source": [
    "data"
   ]
  },
  {
   "cell_type": "code",
   "execution_count": 9,
   "id": "7afc8f33",
   "metadata": {
    "execution": {
     "iopub.execute_input": "2024-05-30T18:48:49.207225Z",
     "iopub.status.busy": "2024-05-30T18:48:49.206467Z",
     "iopub.status.idle": "2024-05-30T18:48:49.284098Z",
     "shell.execute_reply": "2024-05-30T18:48:49.282814Z"
    },
    "papermill": {
     "duration": 0.098952,
     "end_time": "2024-05-30T18:48:49.286593",
     "exception": false,
     "start_time": "2024-05-30T18:48:49.187641",
     "status": "completed"
    },
    "tags": []
   },
   "outputs": [
    {
     "data": {
      "text/html": [
       "<div>\n",
       "<style scoped>\n",
       "    .dataframe tbody tr th:only-of-type {\n",
       "        vertical-align: middle;\n",
       "    }\n",
       "\n",
       "    .dataframe tbody tr th {\n",
       "        vertical-align: top;\n",
       "    }\n",
       "\n",
       "    .dataframe thead th {\n",
       "        text-align: right;\n",
       "    }\n",
       "</style>\n",
       "<table border=\"1\" class=\"dataframe\">\n",
       "  <thead>\n",
       "    <tr style=\"text-align: right;\">\n",
       "      <th></th>\n",
       "      <th>match_id</th>\n",
       "      <th>season</th>\n",
       "      <th>batting_innings</th>\n",
       "      <th>bowling_innings</th>\n",
       "      <th>Starting_11</th>\n",
       "      <th>prev_runs</th>\n",
       "      <th>prev_balls</th>\n",
       "      <th>prev_sixes</th>\n",
       "      <th>prev_fours</th>\n",
       "      <th>prev_wickets</th>\n",
       "      <th>prev_conceded</th>\n",
       "      <th>prev_catches</th>\n",
       "      <th>prev_Dream Team</th>\n",
       "      <th>prev_Total_FP</th>\n",
       "      <th>prev_fielding_heroics</th>\n",
       "      <th>prev_duck</th>\n",
       "      <th>luck</th>\n",
       "      <th>Total_FP</th>\n",
       "    </tr>\n",
       "  </thead>\n",
       "  <tbody>\n",
       "    <tr>\n",
       "      <th>count</th>\n",
       "      <td>21616.000000</td>\n",
       "      <td>21616.000000</td>\n",
       "      <td>21616.000000</td>\n",
       "      <td>21616.000000</td>\n",
       "      <td>21616.0</td>\n",
       "      <td>21616.000000</td>\n",
       "      <td>21616.000000</td>\n",
       "      <td>21616.000000</td>\n",
       "      <td>21616.000000</td>\n",
       "      <td>21616.000000</td>\n",
       "      <td>21616.00000</td>\n",
       "      <td>21616.000000</td>\n",
       "      <td>21616.000000</td>\n",
       "      <td>21616.000000</td>\n",
       "      <td>21616.000000</td>\n",
       "      <td>21616.000000</td>\n",
       "      <td>21616.000000</td>\n",
       "      <td>21616.000000</td>\n",
       "    </tr>\n",
       "    <tr>\n",
       "      <th>mean</th>\n",
       "      <td>11196.635918</td>\n",
       "      <td>2015.633975</td>\n",
       "      <td>1.497641</td>\n",
       "      <td>1.502359</td>\n",
       "      <td>4.0</td>\n",
       "      <td>19.622559</td>\n",
       "      <td>15.126267</td>\n",
       "      <td>0.516701</td>\n",
       "      <td>1.208179</td>\n",
       "      <td>0.480616</td>\n",
       "      <td>25.93251</td>\n",
       "      <td>0.316201</td>\n",
       "      <td>0.494310</td>\n",
       "      <td>39.281389</td>\n",
       "      <td>0.085122</td>\n",
       "      <td>0.071521</td>\n",
       "      <td>49.633142</td>\n",
       "      <td>37.617274</td>\n",
       "    </tr>\n",
       "    <tr>\n",
       "      <th>std</th>\n",
       "      <td>6452.702186</td>\n",
       "      <td>4.663043</td>\n",
       "      <td>0.500006</td>\n",
       "      <td>0.500006</td>\n",
       "      <td>0.0</td>\n",
       "      <td>17.569602</td>\n",
       "      <td>11.245145</td>\n",
       "      <td>1.163163</td>\n",
       "      <td>2.075347</td>\n",
       "      <td>0.855670</td>\n",
       "      <td>7.73069</td>\n",
       "      <td>0.587941</td>\n",
       "      <td>0.499979</td>\n",
       "      <td>32.669426</td>\n",
       "      <td>0.315486</td>\n",
       "      <td>0.257699</td>\n",
       "      <td>28.865971</td>\n",
       "      <td>31.775817</td>\n",
       "    </tr>\n",
       "    <tr>\n",
       "      <th>min</th>\n",
       "      <td>1.000000</td>\n",
       "      <td>2008.000000</td>\n",
       "      <td>1.000000</td>\n",
       "      <td>1.000000</td>\n",
       "      <td>4.0</td>\n",
       "      <td>0.000000</td>\n",
       "      <td>0.000000</td>\n",
       "      <td>0.000000</td>\n",
       "      <td>0.000000</td>\n",
       "      <td>0.000000</td>\n",
       "      <td>0.00000</td>\n",
       "      <td>0.000000</td>\n",
       "      <td>0.000000</td>\n",
       "      <td>-4.000000</td>\n",
       "      <td>0.000000</td>\n",
       "      <td>0.000000</td>\n",
       "      <td>0.000000</td>\n",
       "      <td>-4.000000</td>\n",
       "    </tr>\n",
       "    <tr>\n",
       "      <th>25%</th>\n",
       "      <td>5611.750000</td>\n",
       "      <td>2012.000000</td>\n",
       "      <td>1.000000</td>\n",
       "      <td>1.000000</td>\n",
       "      <td>4.0</td>\n",
       "      <td>7.000000</td>\n",
       "      <td>7.000000</td>\n",
       "      <td>0.000000</td>\n",
       "      <td>0.000000</td>\n",
       "      <td>0.000000</td>\n",
       "      <td>25.00000</td>\n",
       "      <td>0.000000</td>\n",
       "      <td>0.000000</td>\n",
       "      <td>13.000000</td>\n",
       "      <td>0.000000</td>\n",
       "      <td>0.000000</td>\n",
       "      <td>25.000000</td>\n",
       "      <td>12.000000</td>\n",
       "    </tr>\n",
       "    <tr>\n",
       "      <th>50%</th>\n",
       "      <td>11195.500000</td>\n",
       "      <td>2015.000000</td>\n",
       "      <td>1.000000</td>\n",
       "      <td>2.000000</td>\n",
       "      <td>4.0</td>\n",
       "      <td>19.622559</td>\n",
       "      <td>15.126267</td>\n",
       "      <td>0.000000</td>\n",
       "      <td>0.000000</td>\n",
       "      <td>0.000000</td>\n",
       "      <td>25.93251</td>\n",
       "      <td>0.000000</td>\n",
       "      <td>0.000000</td>\n",
       "      <td>32.000000</td>\n",
       "      <td>0.000000</td>\n",
       "      <td>0.000000</td>\n",
       "      <td>50.000000</td>\n",
       "      <td>30.000000</td>\n",
       "    </tr>\n",
       "    <tr>\n",
       "      <th>75%</th>\n",
       "      <td>16783.250000</td>\n",
       "      <td>2020.000000</td>\n",
       "      <td>2.000000</td>\n",
       "      <td>2.000000</td>\n",
       "      <td>4.0</td>\n",
       "      <td>20.000000</td>\n",
       "      <td>16.000000</td>\n",
       "      <td>1.000000</td>\n",
       "      <td>2.000000</td>\n",
       "      <td>1.000000</td>\n",
       "      <td>26.00000</td>\n",
       "      <td>1.000000</td>\n",
       "      <td>1.000000</td>\n",
       "      <td>56.000000</td>\n",
       "      <td>0.000000</td>\n",
       "      <td>0.000000</td>\n",
       "      <td>75.000000</td>\n",
       "      <td>55.000000</td>\n",
       "    </tr>\n",
       "    <tr>\n",
       "      <th>max</th>\n",
       "      <td>22362.000000</td>\n",
       "      <td>2023.000000</td>\n",
       "      <td>2.000000</td>\n",
       "      <td>2.000000</td>\n",
       "      <td>4.0</td>\n",
       "      <td>175.000000</td>\n",
       "      <td>73.000000</td>\n",
       "      <td>17.000000</td>\n",
       "      <td>19.000000</td>\n",
       "      <td>6.000000</td>\n",
       "      <td>70.00000</td>\n",
       "      <td>5.000000</td>\n",
       "      <td>1.000000</td>\n",
       "      <td>306.000000</td>\n",
       "      <td>4.000000</td>\n",
       "      <td>1.000000</td>\n",
       "      <td>99.000000</td>\n",
       "      <td>306.000000</td>\n",
       "    </tr>\n",
       "  </tbody>\n",
       "</table>\n",
       "</div>"
      ],
      "text/plain": [
       "           match_id        season  batting_innings  bowling_innings  \\\n",
       "count  21616.000000  21616.000000     21616.000000     21616.000000   \n",
       "mean   11196.635918   2015.633975         1.497641         1.502359   \n",
       "std     6452.702186      4.663043         0.500006         0.500006   \n",
       "min        1.000000   2008.000000         1.000000         1.000000   \n",
       "25%     5611.750000   2012.000000         1.000000         1.000000   \n",
       "50%    11195.500000   2015.000000         1.000000         2.000000   \n",
       "75%    16783.250000   2020.000000         2.000000         2.000000   \n",
       "max    22362.000000   2023.000000         2.000000         2.000000   \n",
       "\n",
       "       Starting_11     prev_runs    prev_balls    prev_sixes    prev_fours  \\\n",
       "count      21616.0  21616.000000  21616.000000  21616.000000  21616.000000   \n",
       "mean           4.0     19.622559     15.126267      0.516701      1.208179   \n",
       "std            0.0     17.569602     11.245145      1.163163      2.075347   \n",
       "min            4.0      0.000000      0.000000      0.000000      0.000000   \n",
       "25%            4.0      7.000000      7.000000      0.000000      0.000000   \n",
       "50%            4.0     19.622559     15.126267      0.000000      0.000000   \n",
       "75%            4.0     20.000000     16.000000      1.000000      2.000000   \n",
       "max            4.0    175.000000     73.000000     17.000000     19.000000   \n",
       "\n",
       "       prev_wickets  prev_conceded  prev_catches  prev_Dream Team  \\\n",
       "count  21616.000000    21616.00000  21616.000000     21616.000000   \n",
       "mean       0.480616       25.93251      0.316201         0.494310   \n",
       "std        0.855670        7.73069      0.587941         0.499979   \n",
       "min        0.000000        0.00000      0.000000         0.000000   \n",
       "25%        0.000000       25.00000      0.000000         0.000000   \n",
       "50%        0.000000       25.93251      0.000000         0.000000   \n",
       "75%        1.000000       26.00000      1.000000         1.000000   \n",
       "max        6.000000       70.00000      5.000000         1.000000   \n",
       "\n",
       "       prev_Total_FP  prev_fielding_heroics     prev_duck          luck  \\\n",
       "count   21616.000000           21616.000000  21616.000000  21616.000000   \n",
       "mean       39.281389               0.085122      0.071521     49.633142   \n",
       "std        32.669426               0.315486      0.257699     28.865971   \n",
       "min        -4.000000               0.000000      0.000000      0.000000   \n",
       "25%        13.000000               0.000000      0.000000     25.000000   \n",
       "50%        32.000000               0.000000      0.000000     50.000000   \n",
       "75%        56.000000               0.000000      0.000000     75.000000   \n",
       "max       306.000000               4.000000      1.000000     99.000000   \n",
       "\n",
       "           Total_FP  \n",
       "count  21616.000000  \n",
       "mean      37.617274  \n",
       "std       31.775817  \n",
       "min       -4.000000  \n",
       "25%       12.000000  \n",
       "50%       30.000000  \n",
       "75%       55.000000  \n",
       "max      306.000000  "
      ]
     },
     "execution_count": 9,
     "metadata": {},
     "output_type": "execute_result"
    }
   ],
   "source": [
    "data.describe()"
   ]
  },
  {
   "cell_type": "code",
   "execution_count": null,
   "id": "068d26a1",
   "metadata": {
    "papermill": {
     "duration": 0.018218,
     "end_time": "2024-05-30T18:48:49.322881",
     "exception": false,
     "start_time": "2024-05-30T18:48:49.304663",
     "status": "completed"
    },
    "tags": []
   },
   "outputs": [],
   "source": []
  },
  {
   "cell_type": "code",
   "execution_count": null,
   "id": "4d6b5b69",
   "metadata": {
    "papermill": {
     "duration": 0.017312,
     "end_time": "2024-05-30T18:48:49.357855",
     "exception": false,
     "start_time": "2024-05-30T18:48:49.340543",
     "status": "completed"
    },
    "tags": []
   },
   "outputs": [],
   "source": []
  },
  {
   "cell_type": "code",
   "execution_count": 10,
   "id": "49274110",
   "metadata": {
    "execution": {
     "iopub.execute_input": "2024-05-30T18:48:49.395016Z",
     "iopub.status.busy": "2024-05-30T18:48:49.394635Z",
     "iopub.status.idle": "2024-05-30T18:48:49.402153Z",
     "shell.execute_reply": "2024-05-30T18:48:49.401037Z"
    },
    "papermill": {
     "duration": 0.028979,
     "end_time": "2024-05-30T18:48:49.404639",
     "exception": false,
     "start_time": "2024-05-30T18:48:49.375660",
     "status": "completed"
    },
    "tags": []
   },
   "outputs": [
    {
     "data": {
      "text/plain": [
       "\"# Convert categorical variables to numerical using One-Hot Encoding\\n\\ndata = pd.get_dummies(data, columns=['home_team', 'away_team', 'venue', 'Player_name', 'bowling_team_bowl', 'batting_team_bat'])\\n\\n# Create target variables\\nX = data.drop(['match_id', 'match_name', 'prev_Total_FP'], axis=1)\\ny_fp = data['prev_Total_FP']\\ny_captain = data['captaincy_status']\""
      ]
     },
     "execution_count": 10,
     "metadata": {},
     "output_type": "execute_result"
    }
   ],
   "source": [
    "'''# Convert categorical variables to numerical using One-Hot Encoding\n",
    "\n",
    "data = pd.get_dummies(data, columns=['home_team', 'away_team', 'venue', 'Player_name', 'bowling_team_bowl', 'batting_team_bat'])\n",
    "\n",
    "# Create target variables\n",
    "X = data.drop(['match_id', 'match_name', 'prev_Total_FP'], axis=1)\n",
    "y_fp = data['prev_Total_FP']\n",
    "y_captain = data['captaincy_status']'''\n"
   ]
  },
  {
   "cell_type": "code",
   "execution_count": 11,
   "id": "1ee35d91",
   "metadata": {
    "execution": {
     "iopub.execute_input": "2024-05-30T18:48:49.442442Z",
     "iopub.status.busy": "2024-05-30T18:48:49.441693Z",
     "iopub.status.idle": "2024-05-30T18:48:49.462483Z",
     "shell.execute_reply": "2024-05-30T18:48:49.460751Z"
    },
    "papermill": {
     "duration": 0.042677,
     "end_time": "2024-05-30T18:48:49.465027",
     "exception": false,
     "start_time": "2024-05-30T18:48:49.422350",
     "status": "completed"
    },
    "tags": []
   },
   "outputs": [
    {
     "name": "stdout",
     "output_type": "stream",
     "text": [
      "       match_id  season  prev_runs  prev_balls  prev_sixes  prev_fours  \\\n",
      "0             1    2008  19.622559   15.126267         0.0         0.0   \n",
      "1             2    2008  26.000000   21.000000         0.0         2.0   \n",
      "2             3    2008  21.000000   17.000000         1.0         2.0   \n",
      "3             4    2008   0.000000    1.000000         0.0         0.0   \n",
      "4             5    2008  20.000000   22.000000         0.0         0.0   \n",
      "...         ...     ...        ...         ...         ...         ...   \n",
      "21611     22358    2023  19.622559   15.126267         0.0         0.0   \n",
      "21612     22359    2023  19.622559   15.126267         0.0         0.0   \n",
      "21613     22360    2023  19.622559   15.126267         0.0         0.0   \n",
      "21614     22361    2023  19.622559   15.126267         0.0         0.0   \n",
      "21615     22362    2018  19.622559   15.126267         0.0         0.0   \n",
      "\n",
      "       prev_wickets  prev_conceded  prev_catches  prev_Dream Team  \\\n",
      "0               0.0       25.93251           0.0              0.0   \n",
      "1               0.0       25.93251           0.0              1.0   \n",
      "2               0.0       25.93251           1.0              0.0   \n",
      "3               0.0       25.93251           2.0              0.0   \n",
      "4               0.0       25.93251           0.0              1.0   \n",
      "...             ...            ...           ...              ...   \n",
      "21611           0.0       25.93251           0.0              0.0   \n",
      "21612           0.0       25.93251           0.0              0.0   \n",
      "21613           0.0       25.93251           0.0              0.0   \n",
      "21614           0.0       25.93251           0.0              0.0   \n",
      "21615           0.0       25.93251           0.0              0.0   \n",
      "\n",
      "       prev_Total_FP prev_overs  prev_fielding_heroics  prev_duck  luck  \\\n",
      "0          39.281389          0                    0.0          0    98   \n",
      "1          32.000000          0                    0.0          0    35   \n",
      "2          37.000000          0                    0.0          0    79   \n",
      "3          18.000000          0                    0.0          1    33   \n",
      "4          36.000000          0                    1.0          0    82   \n",
      "...              ...        ...                    ...        ...   ...   \n",
      "21611      20.000000          0                    0.0          0     3   \n",
      "21612      12.000000          0                    0.0          0    80   \n",
      "21613      12.000000          0                    0.0          0     4   \n",
      "21614      20.000000          0                    0.0          0    57   \n",
      "21615      39.281389          0                    0.0          0    80   \n",
      "\n",
      "       Total_FP  \n",
      "0          32.0  \n",
      "1          37.0  \n",
      "2          18.0  \n",
      "3          36.0  \n",
      "4          13.0  \n",
      "...         ...  \n",
      "21611      12.0  \n",
      "21612      12.0  \n",
      "21613      20.0  \n",
      "21614      16.0  \n",
      "21615      16.0  \n",
      "\n",
      "[21616 rows x 16 columns]\n"
     ]
    }
   ],
   "source": [
    "data_prev = data[['match_id', 'season', 'prev_runs', 'prev_balls', 'prev_sixes', 'prev_fours',\n",
    "               'prev_wickets', 'prev_conceded', 'prev_catches', \n",
    "               'prev_Dream Team', 'prev_Total_FP', 'prev_overs', 'prev_fielding_heroics', \n",
    "               'prev_duck', 'luck','Total_FP']]\n",
    "\n",
    "# Display the subset DataFrame\n",
    "print(data_prev)"
   ]
  },
  {
   "cell_type": "code",
   "execution_count": 12,
   "id": "76f2ca02",
   "metadata": {
    "execution": {
     "iopub.execute_input": "2024-05-30T18:48:49.503046Z",
     "iopub.status.busy": "2024-05-30T18:48:49.502364Z",
     "iopub.status.idle": "2024-05-30T18:48:50.814910Z",
     "shell.execute_reply": "2024-05-30T18:48:50.814026Z"
    },
    "papermill": {
     "duration": 1.334456,
     "end_time": "2024-05-30T18:48:50.817430",
     "exception": false,
     "start_time": "2024-05-30T18:48:49.482974",
     "status": "completed"
    },
    "tags": []
   },
   "outputs": [],
   "source": [
    "import seaborn as sns\n",
    "import matplotlib.pyplot as plt"
   ]
  },
  {
   "cell_type": "code",
   "execution_count": 13,
   "id": "ef39c581",
   "metadata": {
    "execution": {
     "iopub.execute_input": "2024-05-30T18:48:50.856484Z",
     "iopub.status.busy": "2024-05-30T18:48:50.855314Z",
     "iopub.status.idle": "2024-05-30T18:48:52.161569Z",
     "shell.execute_reply": "2024-05-30T18:48:52.160462Z"
    },
    "papermill": {
     "duration": 1.331467,
     "end_time": "2024-05-30T18:48:52.167075",
     "exception": false,
     "start_time": "2024-05-30T18:48:50.835608",
     "status": "completed"
    },
    "tags": []
   },
   "outputs": [
    {
     "data": {
      "image/png": "[encoded data removed]",
      "text/plain": [
       "<Figure size 1600x1200 with 2 Axes>"
      ]
     },
     "metadata": {},
     "output_type": "display_data"
    }
   ],
   "source": [
    "# Compute the correlation matrix\n",
    "correlation_matrix = data_prev.corr()\n",
    "\n",
    "# Set up the matplotlib figure\n",
    "plt.figure(figsize=(16, 12))\n",
    "\n",
    "# Draw the heatmap\n",
    "sns.heatmap(correlation_matrix, annot=True, fmt=\".2f\", cmap=\"coolwarm\", linewidths=0.5)\n",
    "\n",
    "# Show the plot\n",
    "plt.show()"
   ]
  },
  {
   "cell_type": "code",
   "execution_count": null,
   "id": "f4cac21b",
   "metadata": {
    "papermill": {
     "duration": 0.022529,
     "end_time": "2024-05-30T18:48:52.212448",
     "exception": false,
     "start_time": "2024-05-30T18:48:52.189919",
     "status": "completed"
    },
    "tags": []
   },
   "outputs": [],
   "source": []
  },
  {
   "cell_type": "code",
   "execution_count": 14,
   "id": "b64e8bc8",
   "metadata": {
    "execution": {
     "iopub.execute_input": "2024-05-30T18:48:52.260091Z",
     "iopub.status.busy": "2024-05-30T18:48:52.259682Z",
     "iopub.status.idle": "2024-05-30T18:48:52.267719Z",
     "shell.execute_reply": "2024-05-30T18:48:52.266567Z"
    },
    "papermill": {
     "duration": 0.034568,
     "end_time": "2024-05-30T18:48:52.270010",
     "exception": false,
     "start_time": "2024-05-30T18:48:52.235442",
     "status": "completed"
    },
    "tags": []
   },
   "outputs": [
    {
     "data": {
      "text/plain": [
       "\" # Convert categorical variables to numerical using One-Hot Encoding\\ndata = pd.get_dummies(data, columns=['home_team', 'away_team', 'venue', 'Player_name', 'bowling_team_bowl', 'batting_team_bat', 'prev_Overs_Bowled', 'prev_overs'])\\n\\n# Create target variables\\nX = data.drop(['match_id', 'match_name', 'total_FP', 'captaincy_status'], axis=1)\\ny_fp = data['total_FP']\\ny_captain = data['captaincy_status'] \""
      ]
     },
     "execution_count": 14,
     "metadata": {},
     "output_type": "execute_result"
    }
   ],
   "source": [
    "''' # Convert categorical variables to numerical using One-Hot Encoding\n",
    "data = pd.get_dummies(data, columns=['home_team', 'away_team', 'venue', 'Player_name', 'bowling_team_bowl', 'batting_team_bat', 'prev_Overs_Bowled', 'prev_overs'])\n",
    "\n",
    "# Create target variables\n",
    "X = data.drop(['match_id', 'match_name', 'total_FP', 'captaincy_status'], axis=1)\n",
    "y_fp = data['total_FP']\n",
    "y_captain = data['captaincy_status'] '''\n"
   ]
  },
  {
   "cell_type": "code",
   "execution_count": 15,
   "id": "16a19219",
   "metadata": {
    "execution": {
     "iopub.execute_input": "2024-05-30T18:48:52.316039Z",
     "iopub.status.busy": "2024-05-30T18:48:52.315638Z",
     "iopub.status.idle": "2024-05-30T18:48:52.687133Z",
     "shell.execute_reply": "2024-05-30T18:48:52.686191Z"
    },
    "papermill": {
     "duration": 0.397628,
     "end_time": "2024-05-30T18:48:52.689680",
     "exception": false,
     "start_time": "2024-05-30T18:48:52.292052",
     "status": "completed"
    },
    "tags": []
   },
   "outputs": [],
   "source": [
    "from sklearn.linear_model import LinearRegression\n",
    "from sklearn.metrics import mean_squared_error"
   ]
  },
  {
   "cell_type": "code",
   "execution_count": 16,
   "id": "46899a50",
   "metadata": {
    "execution": {
     "iopub.execute_input": "2024-05-30T18:48:52.736356Z",
     "iopub.status.busy": "2024-05-30T18:48:52.735597Z",
     "iopub.status.idle": "2024-05-30T18:48:52.742209Z",
     "shell.execute_reply": "2024-05-30T18:48:52.741336Z"
    },
    "papermill": {
     "duration": 0.03197,
     "end_time": "2024-05-30T18:48:52.744430",
     "exception": false,
     "start_time": "2024-05-30T18:48:52.712460",
     "status": "completed"
    },
    "tags": []
   },
   "outputs": [],
   "source": [
    "X = data[['prev_runs', 'prev_balls', 'prev_sixes', 'prev_fours', 'prev_wickets','prev_Total_FP']]\n",
    "Y = data['Total_FP']"
   ]
  },
  {
   "cell_type": "code",
   "execution_count": 17,
   "id": "b8bd027b",
   "metadata": {
    "execution": {
     "iopub.execute_input": "2024-05-30T18:48:52.790283Z",
     "iopub.status.busy": "2024-05-30T18:48:52.789496Z",
     "iopub.status.idle": "2024-05-30T18:48:52.828703Z",
     "shell.execute_reply": "2024-05-30T18:48:52.827849Z"
    },
    "papermill": {
     "duration": 0.067989,
     "end_time": "2024-05-30T18:48:52.834285",
     "exception": false,
     "start_time": "2024-05-30T18:48:52.766296",
     "status": "completed"
    },
    "tags": []
   },
   "outputs": [
    {
     "data": {
      "text/html": [
       "<style>#sk-container-id-1 {color: black;background-color: white;}#sk-container-id-1 pre{padding: 0;}#sk-container-id-1 div.sk-toggleable {background-color: white;}#sk-container-id-1 label.sk-toggleable__label {cursor: pointer;display: block;width: 100%;margin-bottom: 0;padding: 0.3em;box-sizing: border-box;text-align: center;}#sk-container-id-1 label.sk-toggleable__label-arrow:before {content: \"▸\";float: left;margin-right: 0.25em;color: #696969;}#sk-container-id-1 label.sk-toggleable__label-arrow:hover:before {color: black;}#sk-container-id-1 div.sk-estimator:hover label.sk-toggleable__label-arrow:before {color: black;}#sk-container-id-1 div.sk-toggleable__content {max-height: 0;max-width: 0;overflow: hidden;text-align: left;background-color: #f0f8ff;}#sk-container-id-1 div.sk-toggleable__content pre {margin: 0.2em;color: black;border-radius: 0.25em;background-color: #f0f8ff;}#sk-container-id-1 input.sk-toggleable__control:checked~div.sk-toggleable__content {max-height: 200px;max-width: 100%;overflow: auto;}#sk-container-id-1 input.sk-toggleable__control:checked~label.sk-toggleable__label-arrow:before {content: \"▾\";}#sk-container-id-1 div.sk-estimator input.sk-toggleable__control:checked~label.sk-toggleable__label {background-color: #d4ebff;}#sk-container-id-1 div.sk-label input.sk-toggleable__control:checked~label.sk-toggleable__label {background-color: #d4ebff;}#sk-container-id-1 input.sk-hidden--visually {border: 0;clip: rect(1px 1px 1px 1px);clip: rect(1px, 1px, 1px, 1px);height: 1px;margin: -1px;overflow: hidden;padding: 0;position: absolute;width: 1px;}#sk-container-id-1 div.sk-estimator {font-family: monospace;background-color: #f0f8ff;border: 1px dotted black;border-radius: 0.25em;box-sizing: border-box;margin-bottom: 0.5em;}#sk-container-id-1 div.sk-estimator:hover {background-color: #d4ebff;}#sk-container-id-1 div.sk-parallel-item::after {content: \"\";width: 100%;border-bottom: 1px solid gray;flex-grow: 1;}#sk-container-id-1 div.sk-label:hover label.sk-toggleable__label {background-color: #d4ebff;}#sk-container-id-1 div.sk-serial::before {content: \"\";position: absolute;border-left: 1px solid gray;box-sizing: border-box;top: 0;bottom: 0;left: 50%;z-index: 0;}#sk-container-id-1 div.sk-serial {display: flex;flex-direction: column;align-items: center;background-color: white;padding-right: 0.2em;padding-left: 0.2em;position: relative;}#sk-container-id-1 div.sk-item {position: relative;z-index: 1;}#sk-container-id-1 div.sk-parallel {display: flex;align-items: stretch;justify-content: center;background-color: white;position: relative;}#sk-container-id-1 div.sk-item::before, #sk-container-id-1 div.sk-parallel-item::before {content: \"\";position: absolute;border-left: 1px solid gray;box-sizing: border-box;top: 0;bottom: 0;left: 50%;z-index: -1;}#sk-container-id-1 div.sk-parallel-item {display: flex;flex-direction: column;z-index: 1;position: relative;background-color: white;}#sk-container-id-1 div.sk-parallel-item:first-child::after {align-self: flex-end;width: 50%;}#sk-container-id-1 div.sk-parallel-item:last-child::after {align-self: flex-start;width: 50%;}#sk-container-id-1 div.sk-parallel-item:only-child::after {width: 0;}#sk-container-id-1 div.sk-dashed-wrapped {border: 1px dashed gray;margin: 0 0.4em 0.5em 0.4em;box-sizing: border-box;padding-bottom: 0.4em;background-color: white;}#sk-container-id-1 div.sk-label label {font-family: monospace;font-weight: bold;display: inline-block;line-height: 1.2em;}#sk-container-id-1 div.sk-label-container {text-align: center;}#sk-container-id-1 div.sk-container {/* jupyter's `normalize.less` sets `[hidden] { display: none; }` but bootstrap.min.css set `[hidden] { display: none !important; }` so we also need the `!important` here to be able to override the default hidden behavior on the sphinx rendered scikit-learn.org. See: https://github.com/scikit-learn/scikit-learn/issues/21755 */display: inline-block !important;position: relative;}#sk-container-id-1 div.sk-text-repr-fallback {display: none;}</style><div id=\"sk-container-id-1\" class=\"sk-top-container\"><div class=\"sk-text-repr-fallback\"><pre>LinearRegression()</pre><b>In a Jupyter environment, please rerun this cell to show the HTML representation or trust the notebook. <br />On GitHub, the HTML representation is unable to render, please try loading this page with nbviewer.org.</b></div><div class=\"sk-container\" hidden><div class=\"sk-item\"><div class=\"sk-estimator sk-toggleable\"><input class=\"sk-toggleable__control sk-hidden--visually\" id=\"sk-estimator-id-1\" type=\"checkbox\" checked><label for=\"sk-estimator-id-1\" class=\"sk-toggleable__label sk-toggleable__label-arrow\">LinearRegression</label><div class=\"sk-toggleable__content\"><pre>LinearRegression()</pre></div></div></div></div></div>"
      ],
      "text/plain": [
       "LinearRegression()"
      ]
     },
     "execution_count": 17,
     "metadata": {},
     "output_type": "execute_result"
    }
   ],
   "source": [
    "# Initialize the Linear Regression model\n",
    "model = LinearRegression()\n",
    "\n",
    "# Train the model\n",
    "model.fit(X, Y)"
   ]
  },
  {
   "cell_type": "code",
   "execution_count": 18,
   "id": "ea837b41",
   "metadata": {
    "execution": {
     "iopub.execute_input": "2024-05-30T18:48:52.895200Z",
     "iopub.status.busy": "2024-05-30T18:48:52.894828Z",
     "iopub.status.idle": "2024-05-30T18:48:52.911644Z",
     "shell.execute_reply": "2024-05-30T18:48:52.910339Z"
    },
    "papermill": {
     "duration": 0.044424,
     "end_time": "2024-05-30T18:48:52.915940",
     "exception": false,
     "start_time": "2024-05-30T18:48:52.871516",
     "status": "completed"
    },
    "tags": []
   },
   "outputs": [],
   "source": [
    "data_test=pd.read_csv('/kaggle/input/fantasy-ipl-prediction-contest/test_data_Captain (1).csv')"
   ]
  },
  {
   "cell_type": "code",
   "execution_count": null,
   "id": "89cf52a4",
   "metadata": {
    "papermill": {
     "duration": 0.088597,
     "end_time": "2024-05-30T18:48:53.038422",
     "exception": false,
     "start_time": "2024-05-30T18:48:52.949825",
     "status": "completed"
    },
    "tags": []
   },
   "outputs": [],
   "source": []
  },
  {
   "cell_type": "code",
   "execution_count": 19,
   "id": "ff0a7fc7",
   "metadata": {
    "execution": {
     "iopub.execute_input": "2024-05-30T18:48:53.092602Z",
     "iopub.status.busy": "2024-05-30T18:48:53.091959Z",
     "iopub.status.idle": "2024-05-30T18:48:53.097916Z",
     "shell.execute_reply": "2024-05-30T18:48:53.096662Z"
    },
    "papermill": {
     "duration": 0.032832,
     "end_time": "2024-05-30T18:48:53.100662",
     "exception": false,
     "start_time": "2024-05-30T18:48:53.067830",
     "status": "completed"
    },
    "tags": []
   },
   "outputs": [],
   "source": [
    "X_test = data_test[['prev_runs', 'prev_balls', 'prev_sixes', 'prev_fours', 'prev_wickets','prev_Total_FP']]"
   ]
  },
  {
   "cell_type": "code",
   "execution_count": 20,
   "id": "161807b7",
   "metadata": {
    "execution": {
     "iopub.execute_input": "2024-05-30T18:48:53.148700Z",
     "iopub.status.busy": "2024-05-30T18:48:53.147475Z",
     "iopub.status.idle": "2024-05-30T18:48:53.159402Z",
     "shell.execute_reply": "2024-05-30T18:48:53.158268Z"
    },
    "papermill": {
     "duration": 0.038212,
     "end_time": "2024-05-30T18:48:53.162141",
     "exception": false,
     "start_time": "2024-05-30T18:48:53.123929",
     "status": "completed"
    },
    "tags": []
   },
   "outputs": [
    {
     "name": "stderr",
     "output_type": "stream",
     "text": [
      "/tmp/ipykernel_18/3709088057.py:4: FutureWarning: A value is trying to be set on a copy of a DataFrame or Series through chained assignment using an inplace method.\n",
      "The behavior will change in pandas 3.0. This inplace method will never work because the intermediate object on which we are setting values always behaves as a copy.\n",
      "\n",
      "For example, when doing 'df[col].method(value, inplace=True)', try using 'df.method({col: value}, inplace=True)' or df[col] = df[col].method(value) instead, to perform the operation inplace on the original object.\n",
      "\n",
      "\n",
      "  X_test['prev_runs'].fillna(X_test['prev_runs'].mean(), inplace=True)\n",
      "/tmp/ipykernel_18/3709088057.py:4: SettingWithCopyWarning: \n",
      "A value is trying to be set on a copy of a slice from a DataFrame\n",
      "\n",
      "See the caveats in the documentation: https://pandas.pydata.org/pandas-docs/stable/user_guide/indexing.html#returning-a-view-versus-a-copy\n",
      "  X_test['prev_runs'].fillna(X_test['prev_runs'].mean(), inplace=True)\n",
      "/tmp/ipykernel_18/3709088057.py:5: FutureWarning: A value is trying to be set on a copy of a DataFrame or Series through chained assignment using an inplace method.\n",
      "The behavior will change in pandas 3.0. This inplace method will never work because the intermediate object on which we are setting values always behaves as a copy.\n",
      "\n",
      "For example, when doing 'df[col].method(value, inplace=True)', try using 'df.method({col: value}, inplace=True)' or df[col] = df[col].method(value) instead, to perform the operation inplace on the original object.\n",
      "\n",
      "\n",
      "  X_test['prev_balls'].fillna(X_test['prev_balls'].mean(), inplace=True)\n",
      "/tmp/ipykernel_18/3709088057.py:5: SettingWithCopyWarning: \n",
      "A value is trying to be set on a copy of a slice from a DataFrame\n",
      "\n",
      "See the caveats in the documentation: https://pandas.pydata.org/pandas-docs/stable/user_guide/indexing.html#returning-a-view-versus-a-copy\n",
      "  X_test['prev_balls'].fillna(X_test['prev_balls'].mean(), inplace=True)\n",
      "/tmp/ipykernel_18/3709088057.py:6: FutureWarning: A value is trying to be set on a copy of a DataFrame or Series through chained assignment using an inplace method.\n",
      "The behavior will change in pandas 3.0. This inplace method will never work because the intermediate object on which we are setting values always behaves as a copy.\n",
      "\n",
      "For example, when doing 'df[col].method(value, inplace=True)', try using 'df.method({col: value}, inplace=True)' or df[col] = df[col].method(value) instead, to perform the operation inplace on the original object.\n",
      "\n",
      "\n",
      "  X_test['prev_sixes'].fillna(0, inplace=True)\n",
      "/tmp/ipykernel_18/3709088057.py:6: SettingWithCopyWarning: \n",
      "A value is trying to be set on a copy of a slice from a DataFrame\n",
      "\n",
      "See the caveats in the documentation: https://pandas.pydata.org/pandas-docs/stable/user_guide/indexing.html#returning-a-view-versus-a-copy\n",
      "  X_test['prev_sixes'].fillna(0, inplace=True)\n",
      "/tmp/ipykernel_18/3709088057.py:7: FutureWarning: A value is trying to be set on a copy of a DataFrame or Series through chained assignment using an inplace method.\n",
      "The behavior will change in pandas 3.0. This inplace method will never work because the intermediate object on which we are setting values always behaves as a copy.\n",
      "\n",
      "For example, when doing 'df[col].method(value, inplace=True)', try using 'df.method({col: value}, inplace=True)' or df[col] = df[col].method(value) instead, to perform the operation inplace on the original object.\n",
      "\n",
      "\n",
      "  X_test['prev_fours'].fillna(0, inplace=True)\n",
      "/tmp/ipykernel_18/3709088057.py:7: SettingWithCopyWarning: \n",
      "A value is trying to be set on a copy of a slice from a DataFrame\n",
      "\n",
      "See the caveats in the documentation: https://pandas.pydata.org/pandas-docs/stable/user_guide/indexing.html#returning-a-view-versus-a-copy\n",
      "  X_test['prev_fours'].fillna(0, inplace=True)\n",
      "/tmp/ipykernel_18/3709088057.py:8: FutureWarning: A value is trying to be set on a copy of a DataFrame or Series through chained assignment using an inplace method.\n",
      "The behavior will change in pandas 3.0. This inplace method will never work because the intermediate object on which we are setting values always behaves as a copy.\n",
      "\n",
      "For example, when doing 'df[col].method(value, inplace=True)', try using 'df.method({col: value}, inplace=True)' or df[col] = df[col].method(value) instead, to perform the operation inplace on the original object.\n",
      "\n",
      "\n",
      "  X_test['prev_wickets'].fillna(0, inplace=True)\n",
      "/tmp/ipykernel_18/3709088057.py:8: SettingWithCopyWarning: \n",
      "A value is trying to be set on a copy of a slice from a DataFrame\n",
      "\n",
      "See the caveats in the documentation: https://pandas.pydata.org/pandas-docs/stable/user_guide/indexing.html#returning-a-view-versus-a-copy\n",
      "  X_test['prev_wickets'].fillna(0, inplace=True)\n",
      "/tmp/ipykernel_18/3709088057.py:9: FutureWarning: A value is trying to be set on a copy of a DataFrame or Series through chained assignment using an inplace method.\n",
      "The behavior will change in pandas 3.0. This inplace method will never work because the intermediate object on which we are setting values always behaves as a copy.\n",
      "\n",
      "For example, when doing 'df[col].method(value, inplace=True)', try using 'df.method({col: value}, inplace=True)' or df[col] = df[col].method(value) instead, to perform the operation inplace on the original object.\n",
      "\n",
      "\n",
      "  X_test['prev_Total_FP'].fillna(X_test['prev_Total_FP'].mean(), inplace=True)\n",
      "/tmp/ipykernel_18/3709088057.py:9: SettingWithCopyWarning: \n",
      "A value is trying to be set on a copy of a slice from a DataFrame\n",
      "\n",
      "See the caveats in the documentation: https://pandas.pydata.org/pandas-docs/stable/user_guide/indexing.html#returning-a-view-versus-a-copy\n",
      "  X_test['prev_Total_FP'].fillna(X_test['prev_Total_FP'].mean(), inplace=True)\n"
     ]
    }
   ],
   "source": [
    "# Handling missing values by filling them with suitable strategies\n",
    "\n",
    "\n",
    "X_test['prev_runs'].fillna(X_test['prev_runs'].mean(), inplace=True)\n",
    "X_test['prev_balls'].fillna(X_test['prev_balls'].mean(), inplace=True)\n",
    "X_test['prev_sixes'].fillna(0, inplace=True)\n",
    "X_test['prev_fours'].fillna(0, inplace=True)\n",
    "X_test['prev_wickets'].fillna(0, inplace=True)\n",
    "X_test['prev_Total_FP'].fillna(X_test['prev_Total_FP'].mean(), inplace=True)\n"
   ]
  },
  {
   "cell_type": "code",
   "execution_count": 21,
   "id": "a35972df",
   "metadata": {
    "execution": {
     "iopub.execute_input": "2024-05-30T18:48:53.223738Z",
     "iopub.status.busy": "2024-05-30T18:48:53.222905Z",
     "iopub.status.idle": "2024-05-30T18:48:53.229735Z",
     "shell.execute_reply": "2024-05-30T18:48:53.228771Z"
    },
    "papermill": {
     "duration": 0.043575,
     "end_time": "2024-05-30T18:48:53.233298",
     "exception": false,
     "start_time": "2024-05-30T18:48:53.189723",
     "status": "completed"
    },
    "tags": []
   },
   "outputs": [],
   "source": [
    "X_test=X_test[['prev_runs', 'prev_balls', 'prev_sixes', 'prev_fours', 'prev_wickets','prev_Total_FP']]"
   ]
  },
  {
   "cell_type": "code",
   "execution_count": 22,
   "id": "7ea2d510",
   "metadata": {
    "execution": {
     "iopub.execute_input": "2024-05-30T18:48:53.295956Z",
     "iopub.status.busy": "2024-05-30T18:48:53.295091Z",
     "iopub.status.idle": "2024-05-30T18:48:53.304962Z",
     "shell.execute_reply": "2024-05-30T18:48:53.303715Z"
    },
    "papermill": {
     "duration": 0.045165,
     "end_time": "2024-05-30T18:48:53.307811",
     "exception": false,
     "start_time": "2024-05-30T18:48:53.262646",
     "status": "completed"
    },
    "tags": []
   },
   "outputs": [],
   "source": [
    "Y_pred = model.predict(X_test)"
   ]
  },
  {
   "cell_type": "code",
   "execution_count": 23,
   "id": "3c1c1519",
   "metadata": {
    "execution": {
     "iopub.execute_input": "2024-05-30T18:48:53.356695Z",
     "iopub.status.busy": "2024-05-30T18:48:53.356028Z",
     "iopub.status.idle": "2024-05-30T18:48:53.371209Z",
     "shell.execute_reply": "2024-05-30T18:48:53.370100Z"
    },
    "papermill": {
     "duration": 0.042002,
     "end_time": "2024-05-30T18:48:53.373672",
     "exception": false,
     "start_time": "2024-05-30T18:48:53.331670",
     "status": "completed"
    },
    "tags": []
   },
   "outputs": [
    {
     "data": {
      "text/plain": [
       "array([33.17325055, 40.21862261, 42.65433522, 39.12803829, 35.89736615,\n",
       "       33.17325055, 39.0736619 , 38.19629623, 40.50824322, 42.28634249,\n",
       "       37.59367281, 33.17325055, 35.95540984, 36.22400907, 44.31907486,\n",
       "       39.70554749, 33.08498271, 35.54338444, 36.45195577, 36.48924221,\n",
       "       35.0639114 , 35.95540984, 36.22120377, 33.0797934 , 39.54275631,\n",
       "       36.23577994, 36.01064823, 33.08498271, 39.09960846, 33.09536134,\n",
       "       41.12005164, 35.89736615, 42.48333568, 43.53638452, 38.45025915,\n",
       "       41.10967302, 37.40146846, 39.32964022, 36.86874919, 38.42661725,\n",
       "       38.8013659 , 38.37030491, 41.02310983, 33.17325055, 39.04320916,\n",
       "       35.1054259 , 37.65915775, 40.83787782, 36.91482997, 39.59561068,\n",
       "       40.97163112, 33.09536134, 37.4608947 , 33.07460409, 35.1054259 ,\n",
       "       33.07460409, 42.90805565, 46.46397846, 33.17325055, 38.78283112,\n",
       "       35.06910071, 43.1128255 , 39.07336295, 35.06910071, 35.10023659,\n",
       "       40.75545249, 33.17325055, 35.0639114 , 37.17082811, 40.43749121,\n",
       "       43.13108142, 42.7397579 , 37.31243106, 33.17325055, 36.36419896,\n",
       "       36.23059062, 44.18903198, 33.10573996, 42.12374867, 41.63412819,\n",
       "       33.11611859, 35.07947934, 39.495336  , 38.49930677, 35.89736615,\n",
       "       39.12555502, 35.12099383, 36.41186403, 39.68588357, 44.86603911,\n",
       "       35.80203603, 36.54113533, 33.09017203, 35.80203603, 39.98072827,\n",
       "       36.17158568, 40.63662205, 35.10023659, 35.38299808, 37.07397596,\n",
       "       37.12067977, 40.30314314, 38.48892815, 45.3602232 , 39.70446879,\n",
       "       35.60142813, 33.17325055, 38.89295894, 38.20869012, 38.43607377,\n",
       "       44.28053051, 39.43491799, 37.2905302 , 37.47137261, 38.33740806,\n",
       "       43.90080943, 36.95687474, 42.73879546, 39.89454622, 36.04972616,\n",
       "       35.06910071, 38.54861148, 35.08985796, 36.54113533, 33.09536134,\n",
       "       39.10956576, 36.24282298, 33.0797934 , 38.53616223, 36.03324952,\n",
       "       38.09021873, 36.80819912, 35.65904083, 33.05903616, 36.73751518,\n",
       "       38.86163206, 33.07460409, 38.07629044, 36.80313219, 38.54870334,\n",
       "       38.16328772, 37.11549046, 36.39391208, 37.63333357, 44.10386359,\n",
       "       40.43202381, 36.75626684, 38.11322793, 33.06941478, 46.40365562,\n",
       "       33.09536134, 36.16120706, 33.08498271, 43.94370648, 33.07460409,\n",
       "       37.24206541, 36.60252429, 36.53171797, 41.91786452, 41.42837132,\n",
       "       40.03844357, 36.44157715, 35.06910071, 33.08498271, 43.0894169 ,\n",
       "       43.00639864, 35.66985044, 40.80742722, 40.06018186, 38.37318004,\n",
       "       36.47886359, 36.68985011, 37.04145751, 35.91293409, 35.08985796,\n",
       "       44.32319831, 36.44157715, 41.54601393, 37.06878665, 33.17325055,\n",
       "       38.77343458, 37.69518401, 35.84970109, 38.55216115, 35.0639114 ,\n",
       "       35.66466113, 36.4623344 , 33.07460409, 39.74520841, 37.09473321,\n",
       "       36.26595455, 41.9752249 , 42.78050441, 44.95988424, 40.49031612,\n",
       "       33.17325055, 35.07947934, 33.0797934 , 38.42249163, 37.33977955,\n",
       "       36.15558676, 38.55216115, 36.827656  , 33.0797934 , 33.17325055,\n",
       "       33.09017203, 35.08466865, 35.08985796, 36.6488068 , 33.11611859,\n",
       "       36.59637372, 41.21377009, 35.0639114 , 35.39423867, 36.25091689,\n",
       "       35.1054259 , 36.55485922, 36.59451998, 41.11486233, 37.94471715,\n",
       "       37.19176504, 39.96022547, 37.30768242, 39.82735446, 42.76014522,\n",
       "       37.24191356, 37.00936038, 35.07429003, 38.22520963, 42.07904371,\n",
       "       43.44461923, 39.11517639, 37.56194442, 33.11092927, 37.31849202,\n",
       "       40.96089064, 38.76291379, 38.25310921, 37.25006971, 33.17325055,\n",
       "       33.09536134, 33.17325055, 41.25963398, 35.08466865, 35.26777267,\n",
       "       33.07460409, 35.1054259 , 39.28502682, 37.93433853, 41.01560844,\n",
       "       33.06422547, 33.08498271, 35.06910071, 37.04287057, 35.05353278,\n",
       "       33.09536134, 35.06910071, 33.07460409, 38.18780081, 43.7287462 ,\n",
       "       33.17325055, 38.19930326, 37.01454969, 37.83916129, 36.83189374,\n",
       "       37.09473321, 36.89846231, 38.37533747, 39.20999348, 33.05903616,\n",
       "       37.27826821, 37.06878665, 42.97519083, 40.2595839 , 37.32325035,\n",
       "       38.79055629, 33.17325055, 39.15669089, 36.19747968, 39.08922983,\n",
       "       38.65238167, 38.20960996, 33.09536134, 33.0797934 , 33.07460409,\n",
       "       40.75307817, 42.71764015, 39.38108031, 39.06847259, 37.05421045,\n",
       "       38.5040651 , 40.18652549, 36.77601028, 33.09536134, 35.06910071,\n",
       "       36.42267363, 33.09017203, 38.27698037, 39.95997103, 33.06941478,\n",
       "       37.60722547, 38.27828089, 39.61424805, 35.44805431, 35.92946328,\n",
       "       33.09536134, 33.07460409, 33.17325055, 36.27729443, 36.44157715,\n",
       "       37.06359734, 35.65947181, 43.41942978, 33.17325055, 37.90236378,\n",
       "       40.00311015, 40.5959281 , 44.64822643, 39.23028908, 37.1362477 ,\n",
       "       35.99745461, 33.09536134, 33.08498271, 36.83284531, 36.5335717 ,\n",
       "       40.20136578, 37.08111827, 33.17325055, 33.0797934 , 39.26234706,\n",
       "       41.73782167, 33.06422547, 38.38600491, 36.29858195, 36.80593749,\n",
       "       35.0639114 , 37.09992252, 37.08435459, 43.92128755, 38.73776416,\n",
       "       45.07604635, 37.10511183, 38.53189502, 41.38267655, 36.23577994,\n",
       "       38.99879007, 39.30683597, 39.61733023, 39.08922983, 36.03474105,\n",
       "       39.13998689, 43.88054196, 38.2935697 , 37.93952784, 40.43137594,\n",
       "       42.02320454, 37.11549046, 42.86303898, 37.57090029, 45.29641973,\n",
       "       46.87736664, 44.35725393, 38.16475988, 35.06910071, 41.26580924,\n",
       "       35.05353278, 35.64093704, 33.07460409, 39.31324083, 38.50688009,\n",
       "       38.25635518, 33.06422547, 41.06727674, 41.04821647, 35.07429003,\n",
       "       36.78836397, 43.71934965, 42.90349519, 39.20357347, 35.84970109,\n",
       "       37.06221476, 35.08466865, 35.81004033, 38.40289316, 37.84323646,\n",
       "       38.1298795 , 40.92844962, 35.11061521, 37.09473321, 39.49099629,\n",
       "       37.67299433, 35.9181234 , 39.32163592, 55.52297384, 37.42969658,\n",
       "       35.4594247 , 35.93984191, 41.13178542, 33.17325055, 43.91334549,\n",
       "       42.63899091, 36.78422867, 41.10014412, 33.1213079 , 39.10998708,\n",
       "       33.17325055, 40.08475555, 38.40410871, 33.07460409, 38.29963066,\n",
       "       40.61746409, 40.23280815, 33.07460409, 36.76108742, 41.10967302,\n",
       "       39.77555424, 43.34576399, 37.06359734, 33.06941478, 37.9180712 ,\n",
       "       35.89217684, 33.06941478, 35.9785511 , 43.6894738 , 44.8367915 ,\n",
       "       37.97512312, 36.84841324, 37.91877059, 39.68165655, 38.13361432,\n",
       "       35.07429003, 42.96013128, 39.10479777, 41.98693471, 38.41371245,\n",
       "       35.05353278, 37.0169337 , 38.62741719, 41.10705988, 35.93984191,\n",
       "       38.1378838 , 36.19330418, 38.03721251, 41.00268427, 33.07460409,\n",
       "       37.11549046, 39.3575398 , 40.70900576, 37.12359402, 44.53857722,\n",
       "       36.42347336, 40.29276451, 42.18862835, 35.96817247, 40.84059022,\n",
       "       44.28204286, 35.08985796, 37.86508702, 35.77512821, 39.53141643,\n",
       "       35.7643186 , 38.48572463, 38.97052454, 37.30529841, 39.10479777,\n",
       "       37.85803429, 33.17325055, 36.55565894, 38.9403154 , 36.21125613,\n",
       "       36.1984935 , 33.08498271, 36.39391208, 35.65851056, 33.06422547,\n",
       "       37.1914335 , 37.08435459, 37.94471715, 36.53350946, 35.89736615,\n",
       "       36.09797405, 42.68649459, 37.06878665, 42.97882744, 37.94994455,\n",
       "       46.07490809, 39.97553896, 37.5144312 , 33.07460409, 39.4111939 ,\n",
       "       39.19263406, 37.24206541, 37.36810043, 37.0895439 , 35.93984191,\n",
       "       37.07397596, 40.02541149, 37.89186278, 38.48373884, 36.53171797,\n",
       "       38.75795836, 37.08435459, 43.22684716, 38.50224414, 38.27287469,\n",
       "       35.7067059 , 33.05903616, 36.48784997, 41.59748977, 38.09858209,\n",
       "       39.08331059, 40.26678848, 36.38776151, 36.220212  , 43.36559451,\n",
       "       40.82270913, 39.34419434, 40.29626493, 41.53660625, 36.09797405,\n",
       "       36.23481868, 41.52801911, 35.07429003, 36.21406143, 39.06847259,\n",
       "       39.44689606, 41.84842082, 33.07460409, 41.37785092, 41.97721085,\n",
       "       38.70603577, 36.65018935, 36.38215091, 35.07429003, 38.47373968,\n",
       "       37.06878665, 42.88031374, 36.85222   , 36.05030899, 36.17440067,\n",
       "       36.98578814, 38.93917178, 40.57900934, 36.23577994, 33.08498271,\n",
       "       35.07429003, 37.05840803, 48.73059004, 41.00434266, 50.3424883 ,\n",
       "       38.80618647, 39.08404052, 32.43693152, 37.53800344, 33.07460409,\n",
       "       36.98764188, 37.51391061, 35.96059916, 46.38804523, 38.79818217,\n",
       "       35.64489565, 38.37030491, 33.09017203, 33.17325055, 33.07460409,\n",
       "       40.14742566, 33.07460409, 37.06878665, 44.51421762, 39.63981794,\n",
       "       39.09960846, 41.50062244, 37.25006971, 38.11853962, 35.06910071,\n",
       "       38.54278398, 37.36727866, 33.06941478, 42.85738937, 33.17325055,\n",
       "       37.08435459, 44.39279877, 41.46638556, 38.50461846, 35.97097778,\n",
       "       36.71861166, 37.09992252, 43.26803222, 37.75461994, 48.2291987 ,\n",
       "       33.17325055, 36.07106624, 39.96887047, 38.96138125, 42.21061083,\n",
       "       39.0350627 , 43.0317941 , 37.09668621, 33.05903616, 35.06910071,\n",
       "       39.38962725, 35.08466865, 41.11030586, 37.72209183, 42.59351394,\n",
       "       39.9236765 , 39.70162923, 44.23041919, 35.07429003, 38.4583139 ,\n",
       "       41.86163437, 39.42928323, 36.19330418, 38.90809589, 37.53142189,\n",
       "       37.51208739, 39.10479777, 37.23109427, 33.07460409, 39.98373546,\n",
       "       38.80041433, 33.17325055, 37.13105839, 43.6157398 , 43.38180422,\n",
       "       33.09017203, 40.9829682 , 39.94941586, 33.07460409, 33.06941478,\n",
       "       43.96540983, 40.094663  , 33.09536134, 33.17325055, 35.08985796,\n",
       "       35.06910071, 39.34622477, 36.19330418, 35.51604564, 40.15338403,\n",
       "       40.33347944, 36.15883273, 39.71714181, 34.92978987, 43.24372251,\n",
       "       37.97635383, 37.93805357, 35.13137246, 35.08466865, 35.64390388,\n",
       "       36.82108413, 46.3446581 , 40.28501465, 33.07460409, 37.07397596,\n",
       "       33.09536134, 48.73878639, 39.68361505, 35.45324362, 33.07460409,\n",
       "       42.8621477 , 37.09907021, 42.56620967, 33.17325055, 35.0639114 ,\n",
       "       38.13087126, 37.28973047, 35.55376306, 35.08985796, 43.28419268,\n",
       "       37.50578393, 35.59623881, 36.91921956, 37.09992252, 35.57452031,\n",
       "       39.34239316, 36.57323246, 35.60142813, 37.09986994, 37.06221476,\n",
       "       40.83564566, 40.97444331, 39.97143329, 42.25390383, 37.13105839,\n",
       "       33.17325055, 35.506098  , 40.79497109, 35.21534928, 33.10573996,\n",
       "       36.71861166, 35.08985796, 37.05840803, 39.84608143, 43.09887358,\n",
       "       39.7023736 , 42.43356244, 35.07947934, 33.07460409, 35.13137246,\n",
       "       38.83365507, 35.51604564, 33.05903616, 40.32812844, 39.09960846,\n",
       "       37.37848874, 38.31701955, 37.01692401, 36.55247521])"
      ]
     },
     "execution_count": 23,
     "metadata": {},
     "output_type": "execute_result"
    }
   ],
   "source": [
    "Y_pred"
   ]
  },
  {
   "cell_type": "code",
   "execution_count": 24,
   "id": "640af72b",
   "metadata": {
    "execution": {
     "iopub.execute_input": "2024-05-30T18:48:53.421365Z",
     "iopub.status.busy": "2024-05-30T18:48:53.420698Z",
     "iopub.status.idle": "2024-05-30T18:48:53.588120Z",
     "shell.execute_reply": "2024-05-30T18:48:53.586892Z"
    },
    "papermill": {
     "duration": 0.194536,
     "end_time": "2024-05-30T18:48:53.591071",
     "exception": false,
     "start_time": "2024-05-30T18:48:53.396535",
     "status": "completed"
    },
    "tags": []
   },
   "outputs": [],
   "source": [
    "cap_data=pd.read_csv('/kaggle/input/fantasy-ipl-prediction-contest/train_data_Captain.csv')"
   ]
  },
  {
   "cell_type": "code",
   "execution_count": 25,
   "id": "8cc2d3c3",
   "metadata": {
    "execution": {
     "iopub.execute_input": "2024-05-30T18:48:53.639036Z",
     "iopub.status.busy": "2024-05-30T18:48:53.638641Z",
     "iopub.status.idle": "2024-05-30T18:48:53.668579Z",
     "shell.execute_reply": "2024-05-30T18:48:53.667289Z"
    },
    "papermill": {
     "duration": 0.05682,
     "end_time": "2024-05-30T18:48:53.671000",
     "exception": false,
     "start_time": "2024-05-30T18:48:53.614180",
     "status": "completed"
    },
    "tags": []
   },
   "outputs": [
    {
     "data": {
      "text/html": [
       "<div>\n",
       "<style scoped>\n",
       "    .dataframe tbody tr th:only-of-type {\n",
       "        vertical-align: middle;\n",
       "    }\n",
       "\n",
       "    .dataframe tbody tr th {\n",
       "        vertical-align: top;\n",
       "    }\n",
       "\n",
       "    .dataframe thead th {\n",
       "        text-align: right;\n",
       "    }\n",
       "</style>\n",
       "<table border=\"1\" class=\"dataframe\">\n",
       "  <thead>\n",
       "    <tr style=\"text-align: right;\">\n",
       "      <th></th>\n",
       "      <th>match_id</th>\n",
       "      <th>season</th>\n",
       "      <th>match_name</th>\n",
       "      <th>home_team</th>\n",
       "      <th>away_team</th>\n",
       "      <th>venue</th>\n",
       "      <th>batting_innings</th>\n",
       "      <th>bowling_innings</th>\n",
       "      <th>Player_name</th>\n",
       "      <th>Starting_11</th>\n",
       "      <th>...</th>\n",
       "      <th>prev_conceded</th>\n",
       "      <th>prev_Overs_Bowled</th>\n",
       "      <th>prev_catches</th>\n",
       "      <th>prev_Dream Team</th>\n",
       "      <th>prev_Total_FP</th>\n",
       "      <th>prev_overs</th>\n",
       "      <th>prev_fielding_heroics</th>\n",
       "      <th>prev_duck</th>\n",
       "      <th>luck</th>\n",
       "      <th>Captain/Vice Captain</th>\n",
       "    </tr>\n",
       "  </thead>\n",
       "  <tbody>\n",
       "    <tr>\n",
       "      <th>0</th>\n",
       "      <td>1</td>\n",
       "      <td>2008</td>\n",
       "      <td>CSK v DC</td>\n",
       "      <td>CSK</td>\n",
       "      <td>DC</td>\n",
       "      <td>MA Chidambaram Stadium, Chepauk, Chennai</td>\n",
       "      <td>2.0</td>\n",
       "      <td>1.0</td>\n",
       "      <td>AB de Villiers</td>\n",
       "      <td>4.0</td>\n",
       "      <td>...</td>\n",
       "      <td>NaN</td>\n",
       "      <td>NaN</td>\n",
       "      <td>NaN</td>\n",
       "      <td>NaN</td>\n",
       "      <td>NaN</td>\n",
       "      <td>NaN</td>\n",
       "      <td>NaN</td>\n",
       "      <td>0</td>\n",
       "      <td>98</td>\n",
       "      <td>NC</td>\n",
       "    </tr>\n",
       "    <tr>\n",
       "      <th>1</th>\n",
       "      <td>2</td>\n",
       "      <td>2008</td>\n",
       "      <td>MI v DC</td>\n",
       "      <td>MI</td>\n",
       "      <td>DC</td>\n",
       "      <td>Dr DY Patil Sports Academy, Mumbai</td>\n",
       "      <td>2.0</td>\n",
       "      <td>1.0</td>\n",
       "      <td>AB de Villiers</td>\n",
       "      <td>4.0</td>\n",
       "      <td>...</td>\n",
       "      <td>NaN</td>\n",
       "      <td>NaN</td>\n",
       "      <td>NaN</td>\n",
       "      <td>1.0</td>\n",
       "      <td>32.0</td>\n",
       "      <td>NaN</td>\n",
       "      <td>NaN</td>\n",
       "      <td>0</td>\n",
       "      <td>35</td>\n",
       "      <td>NC</td>\n",
       "    </tr>\n",
       "    <tr>\n",
       "      <th>2</th>\n",
       "      <td>3</td>\n",
       "      <td>2008</td>\n",
       "      <td>DC v CSK</td>\n",
       "      <td>DC</td>\n",
       "      <td>CSK</td>\n",
       "      <td>Arun Jaitley Stadium, Delhi</td>\n",
       "      <td>1.0</td>\n",
       "      <td>2.0</td>\n",
       "      <td>AB de Villiers</td>\n",
       "      <td>4.0</td>\n",
       "      <td>...</td>\n",
       "      <td>NaN</td>\n",
       "      <td>NaN</td>\n",
       "      <td>1.0</td>\n",
       "      <td>0.0</td>\n",
       "      <td>37.0</td>\n",
       "      <td>NaN</td>\n",
       "      <td>0.0</td>\n",
       "      <td>0</td>\n",
       "      <td>79</td>\n",
       "      <td>NC</td>\n",
       "    </tr>\n",
       "    <tr>\n",
       "      <th>3</th>\n",
       "      <td>4</td>\n",
       "      <td>2008</td>\n",
       "      <td>RR v DC</td>\n",
       "      <td>RR</td>\n",
       "      <td>DC</td>\n",
       "      <td>Sawai Mansingh Stadium, Jaipur</td>\n",
       "      <td>1.0</td>\n",
       "      <td>2.0</td>\n",
       "      <td>AB de Villiers</td>\n",
       "      <td>4.0</td>\n",
       "      <td>...</td>\n",
       "      <td>NaN</td>\n",
       "      <td>NaN</td>\n",
       "      <td>2.0</td>\n",
       "      <td>0.0</td>\n",
       "      <td>18.0</td>\n",
       "      <td>NaN</td>\n",
       "      <td>0.0</td>\n",
       "      <td>1</td>\n",
       "      <td>33</td>\n",
       "      <td>NC</td>\n",
       "    </tr>\n",
       "    <tr>\n",
       "      <th>4</th>\n",
       "      <td>5</td>\n",
       "      <td>2008</td>\n",
       "      <td>KKR v DC</td>\n",
       "      <td>KKR</td>\n",
       "      <td>DC</td>\n",
       "      <td>Eden Gardens, Kolkata</td>\n",
       "      <td>2.0</td>\n",
       "      <td>1.0</td>\n",
       "      <td>AB de Villiers</td>\n",
       "      <td>4.0</td>\n",
       "      <td>...</td>\n",
       "      <td>NaN</td>\n",
       "      <td>NaN</td>\n",
       "      <td>0.0</td>\n",
       "      <td>1.0</td>\n",
       "      <td>36.0</td>\n",
       "      <td>NaN</td>\n",
       "      <td>1.0</td>\n",
       "      <td>0</td>\n",
       "      <td>82</td>\n",
       "      <td>NC</td>\n",
       "    </tr>\n",
       "  </tbody>\n",
       "</table>\n",
       "<p>5 rows × 27 columns</p>\n",
       "</div>"
      ],
      "text/plain": [
       "   match_id  season match_name home_team away_team  \\\n",
       "0         1    2008   CSK v DC       CSK        DC   \n",
       "1         2    2008    MI v DC        MI        DC   \n",
       "2         3    2008   DC v CSK        DC       CSK   \n",
       "3         4    2008    RR v DC        RR        DC   \n",
       "4         5    2008   KKR v DC       KKR        DC   \n",
       "\n",
       "                                      venue  batting_innings  bowling_innings  \\\n",
       "0  MA Chidambaram Stadium, Chepauk, Chennai              2.0              1.0   \n",
       "1        Dr DY Patil Sports Academy, Mumbai              2.0              1.0   \n",
       "2               Arun Jaitley Stadium, Delhi              1.0              2.0   \n",
       "3            Sawai Mansingh Stadium, Jaipur              1.0              2.0   \n",
       "4                     Eden Gardens, Kolkata              2.0              1.0   \n",
       "\n",
       "      Player_name  Starting_11  ... prev_conceded prev_Overs_Bowled  \\\n",
       "0  AB de Villiers          4.0  ...           NaN               NaN   \n",
       "1  AB de Villiers          4.0  ...           NaN               NaN   \n",
       "2  AB de Villiers          4.0  ...           NaN               NaN   \n",
       "3  AB de Villiers          4.0  ...           NaN               NaN   \n",
       "4  AB de Villiers          4.0  ...           NaN               NaN   \n",
       "\n",
       "   prev_catches  prev_Dream Team  prev_Total_FP  prev_overs  \\\n",
       "0           NaN              NaN            NaN         NaN   \n",
       "1           NaN              1.0           32.0         NaN   \n",
       "2           1.0              0.0           37.0         NaN   \n",
       "3           2.0              0.0           18.0         NaN   \n",
       "4           0.0              1.0           36.0         NaN   \n",
       "\n",
       "   prev_fielding_heroics  prev_duck luck  Captain/Vice Captain  \n",
       "0                    NaN          0   98                    NC  \n",
       "1                    NaN          0   35                    NC  \n",
       "2                    0.0          0   79                    NC  \n",
       "3                    0.0          1   33                    NC  \n",
       "4                    1.0          0   82                    NC  \n",
       "\n",
       "[5 rows x 27 columns]"
      ]
     },
     "execution_count": 25,
     "metadata": {},
     "output_type": "execute_result"
    }
   ],
   "source": [
    "cap_data.head()"
   ]
  },
  {
   "cell_type": "code",
   "execution_count": 26,
   "id": "c8823afd",
   "metadata": {
    "execution": {
     "iopub.execute_input": "2024-05-30T18:48:53.719309Z",
     "iopub.status.busy": "2024-05-30T18:48:53.718919Z",
     "iopub.status.idle": "2024-05-30T18:48:53.752924Z",
     "shell.execute_reply": "2024-05-30T18:48:53.751225Z"
    },
    "papermill": {
     "duration": 0.06122,
     "end_time": "2024-05-30T18:48:53.755386",
     "exception": false,
     "start_time": "2024-05-30T18:48:53.694166",
     "status": "completed"
    },
    "tags": []
   },
   "outputs": [
    {
     "name": "stdout",
     "output_type": "stream",
     "text": [
      "<class 'pandas.core.frame.DataFrame'>\n",
      "RangeIndex: 21616 entries, 0 to 21615\n",
      "Data columns (total 27 columns):\n",
      " #   Column                 Non-Null Count  Dtype  \n",
      "---  ------                 --------------  -----  \n",
      " 0   match_id               21616 non-null  int64  \n",
      " 1   season                 21616 non-null  int64  \n",
      " 2   match_name             21616 non-null  object \n",
      " 3   home_team              21616 non-null  object \n",
      " 4   away_team              21616 non-null  object \n",
      " 5   venue                  21616 non-null  object \n",
      " 6   batting_innings        21616 non-null  float64\n",
      " 7   bowling_innings        21616 non-null  float64\n",
      " 8   Player_name            21616 non-null  object \n",
      " 9   Starting_11            21616 non-null  float64\n",
      " 10  bowling_team_bowl      11716 non-null  object \n",
      " 11  batting_team_bat       15154 non-null  object \n",
      " 12  prev_runs              14699 non-null  float64\n",
      " 13  prev_balls             14699 non-null  float64\n",
      " 14  prev_sixes             14699 non-null  float64\n",
      " 15  prev_fours             14699 non-null  float64\n",
      " 16  prev_wickets           11335 non-null  float64\n",
      " 17  prev_conceded          11335 non-null  float64\n",
      " 18  prev_Overs_Bowled      11335 non-null  object \n",
      " 19  prev_catches           6682 non-null   float64\n",
      " 20  prev_Dream Team        20939 non-null  float64\n",
      " 21  prev_Total_FP          20939 non-null  float64\n",
      " 22  prev_overs             11335 non-null  float64\n",
      " 23  prev_fielding_heroics  6682 non-null   float64\n",
      " 24  prev_duck              21616 non-null  int64  \n",
      " 25  luck                   21616 non-null  int64  \n",
      " 26  Captain/Vice Captain   21616 non-null  object \n",
      "dtypes: float64(14), int64(4), object(9)\n",
      "memory usage: 4.5+ MB\n"
     ]
    }
   ],
   "source": [
    "cap_data.info()"
   ]
  },
  {
   "cell_type": "code",
   "execution_count": 27,
   "id": "cc5ee2eb",
   "metadata": {
    "execution": {
     "iopub.execute_input": "2024-05-30T18:48:53.805986Z",
     "iopub.status.busy": "2024-05-30T18:48:53.805566Z",
     "iopub.status.idle": "2024-05-30T18:48:53.817795Z",
     "shell.execute_reply": "2024-05-30T18:48:53.816608Z"
    },
    "papermill": {
     "duration": 0.041155,
     "end_time": "2024-05-30T18:48:53.820467",
     "exception": false,
     "start_time": "2024-05-30T18:48:53.779312",
     "status": "completed"
    },
    "tags": []
   },
   "outputs": [
    {
     "name": "stderr",
     "output_type": "stream",
     "text": [
      "/tmp/ipykernel_18/3801981185.py:1: FutureWarning: A value is trying to be set on a copy of a DataFrame or Series through chained assignment using an inplace method.\n",
      "The behavior will change in pandas 3.0. This inplace method will never work because the intermediate object on which we are setting values always behaves as a copy.\n",
      "\n",
      "For example, when doing 'df[col].method(value, inplace=True)', try using 'df.method({col: value}, inplace=True)' or df[col] = df[col].method(value) instead, to perform the operation inplace on the original object.\n",
      "\n",
      "\n",
      "  cap_data['prev_runs'].fillna(data['prev_runs'].mean(), inplace=True)\n",
      "/tmp/ipykernel_18/3801981185.py:2: FutureWarning: A value is trying to be set on a copy of a DataFrame or Series through chained assignment using an inplace method.\n",
      "The behavior will change in pandas 3.0. This inplace method will never work because the intermediate object on which we are setting values always behaves as a copy.\n",
      "\n",
      "For example, when doing 'df[col].method(value, inplace=True)', try using 'df.method({col: value}, inplace=True)' or df[col] = df[col].method(value) instead, to perform the operation inplace on the original object.\n",
      "\n",
      "\n",
      "  cap_data['prev_balls'].fillna(data['prev_balls'].mean(), inplace=True)\n",
      "/tmp/ipykernel_18/3801981185.py:3: FutureWarning: A value is trying to be set on a copy of a DataFrame or Series through chained assignment using an inplace method.\n",
      "The behavior will change in pandas 3.0. This inplace method will never work because the intermediate object on which we are setting values always behaves as a copy.\n",
      "\n",
      "For example, when doing 'df[col].method(value, inplace=True)', try using 'df.method({col: value}, inplace=True)' or df[col] = df[col].method(value) instead, to perform the operation inplace on the original object.\n",
      "\n",
      "\n",
      "  cap_data['prev_sixes'].fillna(data['prev_sixes'].mean(), inplace=True)\n",
      "/tmp/ipykernel_18/3801981185.py:4: FutureWarning: A value is trying to be set on a copy of a DataFrame or Series through chained assignment using an inplace method.\n",
      "The behavior will change in pandas 3.0. This inplace method will never work because the intermediate object on which we are setting values always behaves as a copy.\n",
      "\n",
      "For example, when doing 'df[col].method(value, inplace=True)', try using 'df.method({col: value}, inplace=True)' or df[col] = df[col].method(value) instead, to perform the operation inplace on the original object.\n",
      "\n",
      "\n",
      "  cap_data['prev_fours'].fillna(data['prev_fours'].mean(), inplace=True)\n",
      "/tmp/ipykernel_18/3801981185.py:5: FutureWarning: A value is trying to be set on a copy of a DataFrame or Series through chained assignment using an inplace method.\n",
      "The behavior will change in pandas 3.0. This inplace method will never work because the intermediate object on which we are setting values always behaves as a copy.\n",
      "\n",
      "For example, when doing 'df[col].method(value, inplace=True)', try using 'df.method({col: value}, inplace=True)' or df[col] = df[col].method(value) instead, to perform the operation inplace on the original object.\n",
      "\n",
      "\n",
      "  cap_data['prev_wickets'].fillna(data['prev_wickets'].mean(), inplace=True)\n",
      "/tmp/ipykernel_18/3801981185.py:6: FutureWarning: A value is trying to be set on a copy of a DataFrame or Series through chained assignment using an inplace method.\n",
      "The behavior will change in pandas 3.0. This inplace method will never work because the intermediate object on which we are setting values always behaves as a copy.\n",
      "\n",
      "For example, when doing 'df[col].method(value, inplace=True)', try using 'df.method({col: value}, inplace=True)' or df[col] = df[col].method(value) instead, to perform the operation inplace on the original object.\n",
      "\n",
      "\n",
      "  cap_data['prev_Total_FP'].fillna(data['prev_Total_FP'].mean(), inplace=True)\n"
     ]
    }
   ],
   "source": [
    "cap_data['prev_runs'].fillna(data['prev_runs'].mean(), inplace=True)\n",
    "cap_data['prev_balls'].fillna(data['prev_balls'].mean(), inplace=True)\n",
    "cap_data['prev_sixes'].fillna(data['prev_sixes'].mean(), inplace=True)\n",
    "cap_data['prev_fours'].fillna(data['prev_fours'].mean(), inplace=True)\n",
    "cap_data['prev_wickets'].fillna(data['prev_wickets'].mean(), inplace=True)\n",
    "cap_data['prev_Total_FP'].fillna(data['prev_Total_FP'].mean(), inplace=True)\n"
   ]
  },
  {
   "cell_type": "code",
   "execution_count": 28,
   "id": "b04665a6",
   "metadata": {
    "execution": {
     "iopub.execute_input": "2024-05-30T18:48:53.870493Z",
     "iopub.status.busy": "2024-05-30T18:48:53.869717Z",
     "iopub.status.idle": "2024-05-30T18:48:53.888888Z",
     "shell.execute_reply": "2024-05-30T18:48:53.887127Z"
    },
    "papermill": {
     "duration": 0.047968,
     "end_time": "2024-05-30T18:48:53.891989",
     "exception": false,
     "start_time": "2024-05-30T18:48:53.844021",
     "status": "completed"
    },
    "tags": []
   },
   "outputs": [
    {
     "name": "stdout",
     "output_type": "stream",
     "text": [
      "Captain/Vice Captain\n",
      "1    19981\n",
      "2      827\n",
      "0      808\n",
      "Name: count, dtype: int64\n"
     ]
    }
   ],
   "source": [
    "from sklearn.preprocessing import LabelEncoder\n",
    "\n",
    "# Initialize LabelEncoder\n",
    "label_encoder = LabelEncoder()\n",
    "\n",
    "# Encode the target variable 'Captain/Vice Captain' column\n",
    "cap_data['Captain/Vice Captain'] = label_encoder.fit_transform(cap_data['Captain/Vice Captain'])\n",
    "\n",
    "# Check the encoded values\n",
    "print(cap_data['Captain/Vice Captain'].value_counts())\n",
    "\n",
    "# Now 'Captain/Vice Captain' column is encoded with numerical values\n"
   ]
  },
  {
   "cell_type": "code",
   "execution_count": 29,
   "id": "6a7fbec0",
   "metadata": {
    "execution": {
     "iopub.execute_input": "2024-05-30T18:48:53.942793Z",
     "iopub.status.busy": "2024-05-30T18:48:53.942339Z",
     "iopub.status.idle": "2024-05-30T18:48:53.951191Z",
     "shell.execute_reply": "2024-05-30T18:48:53.949963Z"
    },
    "papermill": {
     "duration": 0.037618,
     "end_time": "2024-05-30T18:48:53.953521",
     "exception": false,
     "start_time": "2024-05-30T18:48:53.915903",
     "status": "completed"
    },
    "tags": []
   },
   "outputs": [
    {
     "data": {
      "text/plain": [
       "0        1\n",
       "1        1\n",
       "2        1\n",
       "3        1\n",
       "4        1\n",
       "        ..\n",
       "21611    1\n",
       "21612    1\n",
       "21613    1\n",
       "21614    1\n",
       "21615    1\n",
       "Name: Captain/Vice Captain, Length: 21616, dtype: int64"
      ]
     },
     "execution_count": 29,
     "metadata": {},
     "output_type": "execute_result"
    }
   ],
   "source": [
    "cap_data['Captain/Vice Captain']"
   ]
  },
  {
   "cell_type": "code",
   "execution_count": 30,
   "id": "007c3d18",
   "metadata": {
    "execution": {
     "iopub.execute_input": "2024-05-30T18:48:54.004205Z",
     "iopub.status.busy": "2024-05-30T18:48:54.003542Z",
     "iopub.status.idle": "2024-05-30T18:48:54.009333Z",
     "shell.execute_reply": "2024-05-30T18:48:54.008507Z"
    },
    "papermill": {
     "duration": 0.034095,
     "end_time": "2024-05-30T18:48:54.011900",
     "exception": false,
     "start_time": "2024-05-30T18:48:53.977805",
     "status": "completed"
    },
    "tags": []
   },
   "outputs": [],
   "source": [
    "Xcap=cap_data[['prev_runs', 'prev_balls', 'prev_sixes', 'prev_fours', 'prev_wickets','prev_Total_FP']]\n",
    "Ycap=cap_data['Captain/Vice Captain']"
   ]
  },
  {
   "cell_type": "code",
   "execution_count": 31,
   "id": "6359d0a5",
   "metadata": {
    "execution": {
     "iopub.execute_input": "2024-05-30T18:48:54.065094Z",
     "iopub.status.busy": "2024-05-30T18:48:54.064320Z",
     "iopub.status.idle": "2024-05-30T18:48:54.069315Z",
     "shell.execute_reply": "2024-05-30T18:48:54.068334Z"
    },
    "papermill": {
     "duration": 0.035306,
     "end_time": "2024-05-30T18:48:54.071655",
     "exception": false,
     "start_time": "2024-05-30T18:48:54.036349",
     "status": "completed"
    },
    "tags": []
   },
   "outputs": [],
   "source": [
    "from sklearn.linear_model import LogisticRegression\n",
    "from sklearn.metrics import accuracy_score, classification_report"
   ]
  },
  {
   "cell_type": "code",
   "execution_count": 32,
   "id": "8aafa624",
   "metadata": {
    "execution": {
     "iopub.execute_input": "2024-05-30T18:48:54.122829Z",
     "iopub.status.busy": "2024-05-30T18:48:54.121771Z",
     "iopub.status.idle": "2024-05-30T18:48:54.832053Z",
     "shell.execute_reply": "2024-05-30T18:48:54.830378Z"
    },
    "papermill": {
     "duration": 0.740624,
     "end_time": "2024-05-30T18:48:54.836715",
     "exception": false,
     "start_time": "2024-05-30T18:48:54.096091",
     "status": "completed"
    },
    "tags": []
   },
   "outputs": [
    {
     "name": "stderr",
     "output_type": "stream",
     "text": [
      "/opt/conda/lib/python3.10/site-packages/sklearn/linear_model/_logistic.py:458: ConvergenceWarning: lbfgs failed to converge (status=1):\n",
      "STOP: TOTAL NO. of ITERATIONS REACHED LIMIT.\n",
      "\n",
      "Increase the number of iterations (max_iter) or scale the data as shown in:\n",
      "    https://scikit-learn.org/stable/modules/preprocessing.html\n",
      "Please also refer to the documentation for alternative solver options:\n",
      "    https://scikit-learn.org/stable/modules/linear_model.html#logistic-regression\n",
      "  n_iter_i = _check_optimize_result(\n"
     ]
    },
    {
     "data": {
      "text/html": [
       "<style>#sk-container-id-2 {color: black;background-color: white;}#sk-container-id-2 pre{padding: 0;}#sk-container-id-2 div.sk-toggleable {background-color: white;}#sk-container-id-2 label.sk-toggleable__label {cursor: pointer;display: block;width: 100%;margin-bottom: 0;padding: 0.3em;box-sizing: border-box;text-align: center;}#sk-container-id-2 label.sk-toggleable__label-arrow:before {content: \"▸\";float: left;margin-right: 0.25em;color: #696969;}#sk-container-id-2 label.sk-toggleable__label-arrow:hover:before {color: black;}#sk-container-id-2 div.sk-estimator:hover label.sk-toggleable__label-arrow:before {color: black;}#sk-container-id-2 div.sk-toggleable__content {max-height: 0;max-width: 0;overflow: hidden;text-align: left;background-color: #f0f8ff;}#sk-container-id-2 div.sk-toggleable__content pre {margin: 0.2em;color: black;border-radius: 0.25em;background-color: #f0f8ff;}#sk-container-id-2 input.sk-toggleable__control:checked~div.sk-toggleable__content {max-height: 200px;max-width: 100%;overflow: auto;}#sk-container-id-2 input.sk-toggleable__control:checked~label.sk-toggleable__label-arrow:before {content: \"▾\";}#sk-container-id-2 div.sk-estimator input.sk-toggleable__control:checked~label.sk-toggleable__label {background-color: #d4ebff;}#sk-container-id-2 div.sk-label input.sk-toggleable__control:checked~label.sk-toggleable__label {background-color: #d4ebff;}#sk-container-id-2 input.sk-hidden--visually {border: 0;clip: rect(1px 1px 1px 1px);clip: rect(1px, 1px, 1px, 1px);height: 1px;margin: -1px;overflow: hidden;padding: 0;position: absolute;width: 1px;}#sk-container-id-2 div.sk-estimator {font-family: monospace;background-color: #f0f8ff;border: 1px dotted black;border-radius: 0.25em;box-sizing: border-box;margin-bottom: 0.5em;}#sk-container-id-2 div.sk-estimator:hover {background-color: #d4ebff;}#sk-container-id-2 div.sk-parallel-item::after {content: \"\";width: 100%;border-bottom: 1px solid gray;flex-grow: 1;}#sk-container-id-2 div.sk-label:hover label.sk-toggleable__label {background-color: #d4ebff;}#sk-container-id-2 div.sk-serial::before {content: \"\";position: absolute;border-left: 1px solid gray;box-sizing: border-box;top: 0;bottom: 0;left: 50%;z-index: 0;}#sk-container-id-2 div.sk-serial {display: flex;flex-direction: column;align-items: center;background-color: white;padding-right: 0.2em;padding-left: 0.2em;position: relative;}#sk-container-id-2 div.sk-item {position: relative;z-index: 1;}#sk-container-id-2 div.sk-parallel {display: flex;align-items: stretch;justify-content: center;background-color: white;position: relative;}#sk-container-id-2 div.sk-item::before, #sk-container-id-2 div.sk-parallel-item::before {content: \"\";position: absolute;border-left: 1px solid gray;box-sizing: border-box;top: 0;bottom: 0;left: 50%;z-index: -1;}#sk-container-id-2 div.sk-parallel-item {display: flex;flex-direction: column;z-index: 1;position: relative;background-color: white;}#sk-container-id-2 div.sk-parallel-item:first-child::after {align-self: flex-end;width: 50%;}#sk-container-id-2 div.sk-parallel-item:last-child::after {align-self: flex-start;width: 50%;}#sk-container-id-2 div.sk-parallel-item:only-child::after {width: 0;}#sk-container-id-2 div.sk-dashed-wrapped {border: 1px dashed gray;margin: 0 0.4em 0.5em 0.4em;box-sizing: border-box;padding-bottom: 0.4em;background-color: white;}#sk-container-id-2 div.sk-label label {font-family: monospace;font-weight: bold;display: inline-block;line-height: 1.2em;}#sk-container-id-2 div.sk-label-container {text-align: center;}#sk-container-id-2 div.sk-container {/* jupyter's `normalize.less` sets `[hidden] { display: none; }` but bootstrap.min.css set `[hidden] { display: none !important; }` so we also need the `!important` here to be able to override the default hidden behavior on the sphinx rendered scikit-learn.org. See: https://github.com/scikit-learn/scikit-learn/issues/21755 */display: inline-block !important;position: relative;}#sk-container-id-2 div.sk-text-repr-fallback {display: none;}</style><div id=\"sk-container-id-2\" class=\"sk-top-container\"><div class=\"sk-text-repr-fallback\"><pre>LogisticRegression()</pre><b>In a Jupyter environment, please rerun this cell to show the HTML representation or trust the notebook. <br />On GitHub, the HTML representation is unable to render, please try loading this page with nbviewer.org.</b></div><div class=\"sk-container\" hidden><div class=\"sk-item\"><div class=\"sk-estimator sk-toggleable\"><input class=\"sk-toggleable__control sk-hidden--visually\" id=\"sk-estimator-id-2\" type=\"checkbox\" checked><label for=\"sk-estimator-id-2\" class=\"sk-toggleable__label sk-toggleable__label-arrow\">LogisticRegression</label><div class=\"sk-toggleable__content\"><pre>LogisticRegression()</pre></div></div></div></div></div>"
      ],
      "text/plain": [
       "LogisticRegression()"
      ]
     },
     "execution_count": 32,
     "metadata": {},
     "output_type": "execute_result"
    }
   ],
   "source": [
    "logistic_reg_model = LogisticRegression()\n",
    "logistic_reg_model.fit(Xcap, Ycap)\n",
    "\n"
   ]
  },
  {
   "cell_type": "code",
   "execution_count": null,
   "id": "824788c9",
   "metadata": {
    "papermill": {
     "duration": 0.048187,
     "end_time": "2024-05-30T18:48:54.937993",
     "exception": false,
     "start_time": "2024-05-30T18:48:54.889806",
     "status": "completed"
    },
    "tags": []
   },
   "outputs": [],
   "source": []
  },
  {
   "cell_type": "code",
   "execution_count": 33,
   "id": "cf742a93",
   "metadata": {
    "execution": {
     "iopub.execute_input": "2024-05-30T18:48:54.988957Z",
     "iopub.status.busy": "2024-05-30T18:48:54.988576Z",
     "iopub.status.idle": "2024-05-30T18:48:55.000280Z",
     "shell.execute_reply": "2024-05-30T18:48:54.999038Z"
    },
    "papermill": {
     "duration": 0.040203,
     "end_time": "2024-05-30T18:48:55.003144",
     "exception": false,
     "start_time": "2024-05-30T18:48:54.962941",
     "status": "completed"
    },
    "tags": []
   },
   "outputs": [],
   "source": [
    "cap_data_test=pd.read_csv('/kaggle/input/fantasy-ipl-prediction-contest/test_data_Captain (1).csv')"
   ]
  },
  {
   "cell_type": "code",
   "execution_count": 34,
   "id": "37aaf546",
   "metadata": {
    "execution": {
     "iopub.execute_input": "2024-05-30T18:48:55.055892Z",
     "iopub.status.busy": "2024-05-30T18:48:55.054575Z",
     "iopub.status.idle": "2024-05-30T18:48:55.084752Z",
     "shell.execute_reply": "2024-05-30T18:48:55.083580Z"
    },
    "papermill": {
     "duration": 0.058523,
     "end_time": "2024-05-30T18:48:55.087204",
     "exception": false,
     "start_time": "2024-05-30T18:48:55.028681",
     "status": "completed"
    },
    "tags": []
   },
   "outputs": [
    {
     "data": {
      "text/html": [
       "<div>\n",
       "<style scoped>\n",
       "    .dataframe tbody tr th:only-of-type {\n",
       "        vertical-align: middle;\n",
       "    }\n",
       "\n",
       "    .dataframe tbody tr th {\n",
       "        vertical-align: top;\n",
       "    }\n",
       "\n",
       "    .dataframe thead th {\n",
       "        text-align: right;\n",
       "    }\n",
       "</style>\n",
       "<table border=\"1\" class=\"dataframe\">\n",
       "  <thead>\n",
       "    <tr style=\"text-align: right;\">\n",
       "      <th></th>\n",
       "      <th>match_id</th>\n",
       "      <th>season</th>\n",
       "      <th>match_name</th>\n",
       "      <th>home_team</th>\n",
       "      <th>away_team</th>\n",
       "      <th>venue</th>\n",
       "      <th>batting_innings</th>\n",
       "      <th>bowling_innings</th>\n",
       "      <th>Player_name</th>\n",
       "      <th>Starting_11</th>\n",
       "      <th>...</th>\n",
       "      <th>prev_wickets</th>\n",
       "      <th>prev_conceded</th>\n",
       "      <th>prev_Overs_Bowled</th>\n",
       "      <th>prev_catches</th>\n",
       "      <th>prev_Dream Team</th>\n",
       "      <th>prev_Total_FP</th>\n",
       "      <th>prev_overs</th>\n",
       "      <th>prev_fielding_heroics</th>\n",
       "      <th>prev_duck</th>\n",
       "      <th>luck</th>\n",
       "    </tr>\n",
       "  </thead>\n",
       "  <tbody>\n",
       "    <tr>\n",
       "      <th>0</th>\n",
       "      <td>8486</td>\n",
       "      <td>2009</td>\n",
       "      <td>RCB v RR</td>\n",
       "      <td>RCB</td>\n",
       "      <td>RR</td>\n",
       "      <td>Newlands, Cape Town</td>\n",
       "      <td>2.0</td>\n",
       "      <td>1.0</td>\n",
       "      <td>Kamran Khan</td>\n",
       "      <td>4.0</td>\n",
       "      <td>...</td>\n",
       "      <td>NaN</td>\n",
       "      <td>NaN</td>\n",
       "      <td>NaN</td>\n",
       "      <td>NaN</td>\n",
       "      <td>NaN</td>\n",
       "      <td>NaN</td>\n",
       "      <td>NaN</td>\n",
       "      <td>NaN</td>\n",
       "      <td>0</td>\n",
       "      <td>96</td>\n",
       "    </tr>\n",
       "    <tr>\n",
       "      <th>1</th>\n",
       "      <td>21272</td>\n",
       "      <td>2022</td>\n",
       "      <td>RCB v GT</td>\n",
       "      <td>RCB</td>\n",
       "      <td>GT</td>\n",
       "      <td>Wankhede Stadium, Mumbai</td>\n",
       "      <td>2.0</td>\n",
       "      <td>1.0</td>\n",
       "      <td>Wanindu Hasaranga de Silva</td>\n",
       "      <td>4.0</td>\n",
       "      <td>...</td>\n",
       "      <td>2.0</td>\n",
       "      <td>15.0</td>\n",
       "      <td>[7, 9, 11, 17]</td>\n",
       "      <td>1.0</td>\n",
       "      <td>1.0</td>\n",
       "      <td>69.0</td>\n",
       "      <td>4.0</td>\n",
       "      <td>0.0</td>\n",
       "      <td>0</td>\n",
       "      <td>40</td>\n",
       "    </tr>\n",
       "    <tr>\n",
       "      <th>2</th>\n",
       "      <td>16353</td>\n",
       "      <td>2023</td>\n",
       "      <td>LSG v DC</td>\n",
       "      <td>LSG</td>\n",
       "      <td>DC</td>\n",
       "      <td>Bharat Ratna Shri Atal Bihari Vajpayee Ekana C...</td>\n",
       "      <td>2.0</td>\n",
       "      <td>1.0</td>\n",
       "      <td>Rovman Powell</td>\n",
       "      <td>4.0</td>\n",
       "      <td>...</td>\n",
       "      <td>NaN</td>\n",
       "      <td>NaN</td>\n",
       "      <td>NaN</td>\n",
       "      <td>NaN</td>\n",
       "      <td>1.0</td>\n",
       "      <td>60.0</td>\n",
       "      <td>NaN</td>\n",
       "      <td>NaN</td>\n",
       "      <td>0</td>\n",
       "      <td>51</td>\n",
       "    </tr>\n",
       "    <tr>\n",
       "      <th>3</th>\n",
       "      <td>13436</td>\n",
       "      <td>2017</td>\n",
       "      <td>RCB v DC</td>\n",
       "      <td>RCB</td>\n",
       "      <td>DC</td>\n",
       "      <td>M.Chinnaswamy Stadium, Bengaluru</td>\n",
       "      <td>1.0</td>\n",
       "      <td>2.0</td>\n",
       "      <td>Pawan Negi</td>\n",
       "      <td>4.0</td>\n",
       "      <td>...</td>\n",
       "      <td>1.0</td>\n",
       "      <td>19.0</td>\n",
       "      <td>[7, 9, 15]</td>\n",
       "      <td>NaN</td>\n",
       "      <td>1.0</td>\n",
       "      <td>33.0</td>\n",
       "      <td>3.0</td>\n",
       "      <td>NaN</td>\n",
       "      <td>0</td>\n",
       "      <td>41</td>\n",
       "    </tr>\n",
       "    <tr>\n",
       "      <th>4</th>\n",
       "      <td>1323</td>\n",
       "      <td>2023</td>\n",
       "      <td>RCB v CSK</td>\n",
       "      <td>RCB</td>\n",
       "      <td>CSK</td>\n",
       "      <td>M.Chinnaswamy Stadium, Bengaluru</td>\n",
       "      <td>1.0</td>\n",
       "      <td>2.0</td>\n",
       "      <td>Ambati Rayudu</td>\n",
       "      <td>4.0</td>\n",
       "      <td>...</td>\n",
       "      <td>NaN</td>\n",
       "      <td>NaN</td>\n",
       "      <td>NaN</td>\n",
       "      <td>NaN</td>\n",
       "      <td>0.0</td>\n",
       "      <td>5.0</td>\n",
       "      <td>NaN</td>\n",
       "      <td>NaN</td>\n",
       "      <td>0</td>\n",
       "      <td>88</td>\n",
       "    </tr>\n",
       "  </tbody>\n",
       "</table>\n",
       "<p>5 rows × 26 columns</p>\n",
       "</div>"
      ],
      "text/plain": [
       "   match_id  season match_name home_team away_team  \\\n",
       "0      8486    2009   RCB v RR       RCB        RR   \n",
       "1     21272    2022   RCB v GT       RCB        GT   \n",
       "2     16353    2023   LSG v DC       LSG        DC   \n",
       "3     13436    2017   RCB v DC       RCB        DC   \n",
       "4      1323    2023  RCB v CSK       RCB       CSK   \n",
       "\n",
       "                                               venue  batting_innings  \\\n",
       "0                                Newlands, Cape Town              2.0   \n",
       "1                           Wankhede Stadium, Mumbai              2.0   \n",
       "2  Bharat Ratna Shri Atal Bihari Vajpayee Ekana C...              2.0   \n",
       "3                   M.Chinnaswamy Stadium, Bengaluru              1.0   \n",
       "4                   M.Chinnaswamy Stadium, Bengaluru              1.0   \n",
       "\n",
       "   bowling_innings                 Player_name  Starting_11  ... prev_wickets  \\\n",
       "0              1.0                 Kamran Khan          4.0  ...          NaN   \n",
       "1              1.0  Wanindu Hasaranga de Silva          4.0  ...          2.0   \n",
       "2              1.0               Rovman Powell          4.0  ...          NaN   \n",
       "3              2.0                  Pawan Negi          4.0  ...          1.0   \n",
       "4              2.0               Ambati Rayudu          4.0  ...          NaN   \n",
       "\n",
       "  prev_conceded  prev_Overs_Bowled  prev_catches  prev_Dream Team  \\\n",
       "0           NaN                NaN           NaN              NaN   \n",
       "1          15.0     [7, 9, 11, 17]           1.0              1.0   \n",
       "2           NaN                NaN           NaN              1.0   \n",
       "3          19.0         [7, 9, 15]           NaN              1.0   \n",
       "4           NaN                NaN           NaN              0.0   \n",
       "\n",
       "   prev_Total_FP  prev_overs  prev_fielding_heroics prev_duck  luck  \n",
       "0            NaN         NaN                    NaN         0    96  \n",
       "1           69.0         4.0                    0.0         0    40  \n",
       "2           60.0         NaN                    NaN         0    51  \n",
       "3           33.0         3.0                    NaN         0    41  \n",
       "4            5.0         NaN                    NaN         0    88  \n",
       "\n",
       "[5 rows x 26 columns]"
      ]
     },
     "execution_count": 34,
     "metadata": {},
     "output_type": "execute_result"
    }
   ],
   "source": [
    "cap_data_test.head()"
   ]
  },
  {
   "cell_type": "code",
   "execution_count": 35,
   "id": "e46acb31",
   "metadata": {
    "execution": {
     "iopub.execute_input": "2024-05-30T18:48:55.139442Z",
     "iopub.status.busy": "2024-05-30T18:48:55.138277Z",
     "iopub.status.idle": "2024-05-30T18:48:55.146021Z",
     "shell.execute_reply": "2024-05-30T18:48:55.144939Z"
    },
    "papermill": {
     "duration": 0.036513,
     "end_time": "2024-05-30T18:48:55.148525",
     "exception": false,
     "start_time": "2024-05-30T18:48:55.112012",
     "status": "completed"
    },
    "tags": []
   },
   "outputs": [
    {
     "data": {
      "text/plain": [
       "(709,)"
      ]
     },
     "execution_count": 35,
     "metadata": {},
     "output_type": "execute_result"
    }
   ],
   "source": [
    "cap_data_test['match_id'].shape"
   ]
  },
  {
   "cell_type": "code",
   "execution_count": 36,
   "id": "38017654",
   "metadata": {
    "execution": {
     "iopub.execute_input": "2024-05-30T18:48:55.200614Z",
     "iopub.status.busy": "2024-05-30T18:48:55.200184Z",
     "iopub.status.idle": "2024-05-30T18:48:55.212397Z",
     "shell.execute_reply": "2024-05-30T18:48:55.211217Z"
    },
    "papermill": {
     "duration": 0.041498,
     "end_time": "2024-05-30T18:48:55.215041",
     "exception": false,
     "start_time": "2024-05-30T18:48:55.173543",
     "status": "completed"
    },
    "tags": []
   },
   "outputs": [
    {
     "name": "stderr",
     "output_type": "stream",
     "text": [
      "/tmp/ipykernel_18/342766308.py:1: FutureWarning: A value is trying to be set on a copy of a DataFrame or Series through chained assignment using an inplace method.\n",
      "The behavior will change in pandas 3.0. This inplace method will never work because the intermediate object on which we are setting values always behaves as a copy.\n",
      "\n",
      "For example, when doing 'df[col].method(value, inplace=True)', try using 'df.method({col: value}, inplace=True)' or df[col] = df[col].method(value) instead, to perform the operation inplace on the original object.\n",
      "\n",
      "\n",
      "  cap_data_test['prev_runs'].fillna(data['prev_runs'].mean(), inplace=True)\n",
      "/tmp/ipykernel_18/342766308.py:2: FutureWarning: A value is trying to be set on a copy of a DataFrame or Series through chained assignment using an inplace method.\n",
      "The behavior will change in pandas 3.0. This inplace method will never work because the intermediate object on which we are setting values always behaves as a copy.\n",
      "\n",
      "For example, when doing 'df[col].method(value, inplace=True)', try using 'df.method({col: value}, inplace=True)' or df[col] = df[col].method(value) instead, to perform the operation inplace on the original object.\n",
      "\n",
      "\n",
      "  cap_data_test['prev_balls'].fillna(data['prev_balls'].mean(), inplace=True)\n",
      "/tmp/ipykernel_18/342766308.py:3: FutureWarning: A value is trying to be set on a copy of a DataFrame or Series through chained assignment using an inplace method.\n",
      "The behavior will change in pandas 3.0. This inplace method will never work because the intermediate object on which we are setting values always behaves as a copy.\n",
      "\n",
      "For example, when doing 'df[col].method(value, inplace=True)', try using 'df.method({col: value}, inplace=True)' or df[col] = df[col].method(value) instead, to perform the operation inplace on the original object.\n",
      "\n",
      "\n",
      "  cap_data_test['prev_sixes'].fillna(data['prev_sixes'].mean(), inplace=True)\n",
      "/tmp/ipykernel_18/342766308.py:4: FutureWarning: A value is trying to be set on a copy of a DataFrame or Series through chained assignment using an inplace method.\n",
      "The behavior will change in pandas 3.0. This inplace method will never work because the intermediate object on which we are setting values always behaves as a copy.\n",
      "\n",
      "For example, when doing 'df[col].method(value, inplace=True)', try using 'df.method({col: value}, inplace=True)' or df[col] = df[col].method(value) instead, to perform the operation inplace on the original object.\n",
      "\n",
      "\n",
      "  cap_data_test['prev_fours'].fillna(data['prev_fours'].mean(), inplace=True)\n",
      "/tmp/ipykernel_18/342766308.py:5: FutureWarning: A value is trying to be set on a copy of a DataFrame or Series through chained assignment using an inplace method.\n",
      "The behavior will change in pandas 3.0. This inplace method will never work because the intermediate object on which we are setting values always behaves as a copy.\n",
      "\n",
      "For example, when doing 'df[col].method(value, inplace=True)', try using 'df.method({col: value}, inplace=True)' or df[col] = df[col].method(value) instead, to perform the operation inplace on the original object.\n",
      "\n",
      "\n",
      "  cap_data_test['prev_wickets'].fillna(data['prev_wickets'].mean(), inplace=True)\n",
      "/tmp/ipykernel_18/342766308.py:6: FutureWarning: A value is trying to be set on a copy of a DataFrame or Series through chained assignment using an inplace method.\n",
      "The behavior will change in pandas 3.0. This inplace method will never work because the intermediate object on which we are setting values always behaves as a copy.\n",
      "\n",
      "For example, when doing 'df[col].method(value, inplace=True)', try using 'df.method({col: value}, inplace=True)' or df[col] = df[col].method(value) instead, to perform the operation inplace on the original object.\n",
      "\n",
      "\n",
      "  cap_data_test['prev_Total_FP'].fillna(data['prev_Total_FP'].mean(), inplace=True)\n"
     ]
    }
   ],
   "source": [
    "cap_data_test['prev_runs'].fillna(data['prev_runs'].mean(), inplace=True)\n",
    "cap_data_test['prev_balls'].fillna(data['prev_balls'].mean(), inplace=True)\n",
    "cap_data_test['prev_sixes'].fillna(data['prev_sixes'].mean(), inplace=True)\n",
    "cap_data_test['prev_fours'].fillna(data['prev_fours'].mean(), inplace=True)\n",
    "cap_data_test['prev_wickets'].fillna(data['prev_wickets'].mean(), inplace=True)\n",
    "cap_data_test['prev_Total_FP'].fillna(data['prev_Total_FP'].mean(), inplace=True)"
   ]
  },
  {
   "cell_type": "code",
   "execution_count": 37,
   "id": "4a1bc3be",
   "metadata": {
    "execution": {
     "iopub.execute_input": "2024-05-30T18:48:55.267184Z",
     "iopub.status.busy": "2024-05-30T18:48:55.266137Z",
     "iopub.status.idle": "2024-05-30T18:48:55.272049Z",
     "shell.execute_reply": "2024-05-30T18:48:55.271111Z"
    },
    "papermill": {
     "duration": 0.034491,
     "end_time": "2024-05-30T18:48:55.274377",
     "exception": false,
     "start_time": "2024-05-30T18:48:55.239886",
     "status": "completed"
    },
    "tags": []
   },
   "outputs": [],
   "source": [
    "Xcap_test=cap_data_test[['prev_runs', 'prev_balls', 'prev_sixes', 'prev_fours', 'prev_wickets','prev_Total_FP']]"
   ]
  },
  {
   "cell_type": "code",
   "execution_count": 38,
   "id": "cc506182",
   "metadata": {
    "execution": {
     "iopub.execute_input": "2024-05-30T18:48:55.326423Z",
     "iopub.status.busy": "2024-05-30T18:48:55.325999Z",
     "iopub.status.idle": "2024-05-30T18:48:55.333215Z",
     "shell.execute_reply": "2024-05-30T18:48:55.332020Z"
    },
    "papermill": {
     "duration": 0.036309,
     "end_time": "2024-05-30T18:48:55.335884",
     "exception": false,
     "start_time": "2024-05-30T18:48:55.299575",
     "status": "completed"
    },
    "tags": []
   },
   "outputs": [],
   "source": [
    "# Make predictions on the test set\n",
    "Ycap_pred = logistic_reg_model.predict(Xcap_test)"
   ]
  },
  {
   "cell_type": "code",
   "execution_count": 39,
   "id": "fafea105",
   "metadata": {
    "execution": {
     "iopub.execute_input": "2024-05-30T18:48:55.388786Z",
     "iopub.status.busy": "2024-05-30T18:48:55.388078Z",
     "iopub.status.idle": "2024-05-30T18:48:55.398462Z",
     "shell.execute_reply": "2024-05-30T18:48:55.397355Z"
    },
    "papermill": {
     "duration": 0.040064,
     "end_time": "2024-05-30T18:48:55.400972",
     "exception": false,
     "start_time": "2024-05-30T18:48:55.360908",
     "status": "completed"
    },
    "tags": []
   },
   "outputs": [
    {
     "data": {
      "text/plain": [
       "array(['NC', 'NC', 'NC', 'NC', 'NC', 'NC', 'NC', 'NC', 'NC', 'NC', 'NC',\n",
       "       'NC', 'NC', 'NC', 'NC', 'NC', 'NC', 'NC', 'NC', 'NC', 'NC', 'NC',\n",
       "       'NC', 'NC', 'NC', 'NC', 'NC', 'NC', 'NC', 'NC', 'NC', 'NC', 'NC',\n",
       "       'NC', 'NC', 'NC', 'NC', 'NC', 'NC', 'NC', 'NC', 'NC', 'NC', 'NC',\n",
       "       'NC', 'NC', 'NC', 'NC', 'NC', 'NC', 'NC', 'NC', 'NC', 'NC', 'NC',\n",
       "       'NC', 'NC', 'NC', 'NC', 'NC', 'NC', 'NC', 'NC', 'NC', 'NC', 'NC',\n",
       "       'NC', 'NC', 'NC', 'NC', 'NC', 'NC', 'NC', 'NC', 'NC', 'NC', 'NC',\n",
       "       'NC', 'NC', 'NC', 'NC', 'NC', 'NC', 'NC', 'NC', 'NC', 'NC', 'NC',\n",
       "       'NC', 'NC', 'NC', 'NC', 'NC', 'NC', 'NC', 'NC', 'NC', 'NC', 'NC',\n",
       "       'NC', 'NC', 'NC', 'NC', 'NC', 'NC', 'NC', 'NC', 'NC', 'NC', 'NC',\n",
       "       'NC', 'NC', 'NC', 'NC', 'NC', 'NC', 'NC', 'NC', 'NC', 'NC', 'NC',\n",
       "       'NC', 'NC', 'NC', 'NC', 'NC', 'NC', 'NC', 'NC', 'NC', 'NC', 'NC',\n",
       "       'NC', 'NC', 'NC', 'NC', 'NC', 'NC', 'NC', 'NC', 'NC', 'NC', 'NC',\n",
       "       'NC', 'NC', 'NC', 'NC', 'NC', 'NC', 'NC', 'NC', 'NC', 'NC', 'NC',\n",
       "       'NC', 'NC', 'NC', 'NC', 'NC', 'NC', 'NC', 'NC', 'NC', 'NC', 'NC',\n",
       "       'NC', 'NC', 'NC', 'NC', 'NC', 'NC', 'NC', 'NC', 'NC', 'NC', 'NC',\n",
       "       'NC', 'NC', 'NC', 'NC', 'NC', 'NC', 'NC', 'NC', 'NC', 'NC', 'NC',\n",
       "       'NC', 'NC', 'NC', 'NC', 'NC', 'NC', 'NC', 'NC', 'NC', 'NC', 'NC',\n",
       "       'NC', 'NC', 'NC', 'NC', 'NC', 'NC', 'NC', 'NC', 'NC', 'NC', 'NC',\n",
       "       'NC', 'NC', 'NC', 'NC', 'NC', 'NC', 'NC', 'NC', 'NC', 'NC', 'NC',\n",
       "       'NC', 'NC', 'NC', 'NC', 'NC', 'NC', 'NC', 'NC', 'NC', 'NC', 'NC',\n",
       "       'NC', 'NC', 'NC', 'NC', 'NC', 'NC', 'NC', 'NC', 'NC', 'NC', 'NC',\n",
       "       'NC', 'NC', 'NC', 'NC', 'NC', 'NC', 'NC', 'NC', 'NC', 'NC', 'NC',\n",
       "       'NC', 'NC', 'NC', 'NC', 'NC', 'NC', 'NC', 'NC', 'NC', 'NC', 'NC',\n",
       "       'NC', 'NC', 'NC', 'NC', 'NC', 'NC', 'NC', 'NC', 'NC', 'NC', 'NC',\n",
       "       'NC', 'NC', 'NC', 'NC', 'NC', 'NC', 'NC', 'NC', 'NC', 'NC', 'NC',\n",
       "       'NC', 'NC', 'NC', 'NC', 'NC', 'NC', 'NC', 'NC', 'NC', 'NC', 'NC',\n",
       "       'NC', 'NC', 'NC', 'NC', 'NC', 'NC', 'NC', 'NC', 'NC', 'NC', 'NC',\n",
       "       'NC', 'NC', 'NC', 'NC', 'NC', 'NC', 'NC', 'NC', 'NC', 'NC', 'NC',\n",
       "       'NC', 'NC', 'NC', 'NC', 'NC', 'NC', 'NC', 'NC', 'NC', 'NC', 'NC',\n",
       "       'NC', 'NC', 'NC', 'NC', 'NC', 'NC', 'NC', 'NC', 'NC', 'NC', 'NC',\n",
       "       'NC', 'NC', 'NC', 'NC', 'NC', 'NC', 'NC', 'NC', 'NC', 'NC', 'NC',\n",
       "       'NC', 'NC', 'NC', 'NC', 'NC', 'NC', 'NC', 'NC', 'NC', 'NC', 'NC',\n",
       "       'NC', 'NC', 'NC', 'NC', 'NC', 'NC', 'NC', 'NC', 'NC', 'NC', 'NC',\n",
       "       'NC', 'NC', 'NC', 'NC', 'NC', 'NC', 'NC', 'NC', 'NC', 'NC', 'NC',\n",
       "       'NC', 'NC', 'NC', 'NC', 'NC', 'NC', 'NC', 'NC', 'NC', 'NC', 'NC',\n",
       "       'NC', 'NC', 'NC', 'NC', 'NC', 'NC', 'NC', 'NC', 'NC', 'NC', 'NC',\n",
       "       'NC', 'NC', 'NC', 'NC', 'NC', 'NC', 'NC', 'NC', 'NC', 'NC', 'NC',\n",
       "       'NC', 'NC', 'NC', 'NC', 'NC', 'NC', 'NC', 'NC', 'NC', 'NC', 'NC',\n",
       "       'NC', 'NC', 'NC', 'NC', 'NC', 'NC', 'NC', 'NC', 'NC', 'NC', 'NC',\n",
       "       'NC', 'NC', 'NC', 'NC', 'NC', 'NC', 'NC', 'NC', 'NC', 'NC', 'NC',\n",
       "       'NC', 'NC', 'NC', 'NC', 'NC', 'NC', 'NC', 'NC', 'NC', 'NC', 'NC',\n",
       "       'NC', 'NC', 'NC', 'NC', 'NC', 'NC', 'NC', 'NC', 'NC', 'NC', 'NC',\n",
       "       'NC', 'NC', 'NC', 'NC', 'NC', 'NC', 'NC', 'NC', 'NC', 'NC', 'NC',\n",
       "       'NC', 'NC', 'NC', 'NC', 'NC', 'NC', 'NC', 'NC', 'NC', 'NC', 'NC',\n",
       "       'NC', 'NC', 'NC', 'NC', 'NC', 'NC', 'NC', 'NC', 'NC', 'NC', 'NC',\n",
       "       'NC', 'NC', 'NC', 'NC', 'NC', 'NC', 'NC', 'NC', 'NC', 'NC', 'NC',\n",
       "       'NC', 'NC', 'NC', 'NC', 'NC', 'NC', 'NC', 'NC', 'NC', 'NC', 'NC',\n",
       "       'NC', 'NC', 'NC', 'NC', 'NC', 'NC', 'NC', 'NC', 'NC', 'NC', 'NC',\n",
       "       'NC', 'NC', 'NC', 'NC', 'NC', 'NC', 'NC', 'NC', 'NC', 'NC', 'NC',\n",
       "       'NC', 'NC', 'NC', 'NC', 'NC', 'NC', 'NC', 'NC', 'NC', 'NC', 'NC',\n",
       "       'NC', 'NC', 'NC', 'NC', 'NC', 'NC', 'NC', 'NC', 'NC', 'NC', 'NC',\n",
       "       'NC', 'NC', 'NC', 'NC', 'NC', 'NC', 'NC', 'NC', 'NC', 'NC', 'NC',\n",
       "       'NC', 'NC', 'NC', 'NC', 'NC', 'NC', 'NC', 'NC', 'NC', 'NC', 'NC',\n",
       "       'NC', 'NC', 'NC', 'NC', 'NC', 'NC', 'NC', 'NC', 'NC', 'NC', 'NC',\n",
       "       'NC', 'NC', 'NC', 'NC', 'NC', 'NC', 'NC', 'NC', 'NC', 'NC', 'NC',\n",
       "       'NC', 'NC', 'NC', 'NC', 'NC', 'NC', 'NC', 'NC', 'NC', 'NC', 'NC',\n",
       "       'NC', 'NC', 'NC', 'NC', 'NC', 'NC', 'NC', 'NC', 'NC', 'NC', 'NC',\n",
       "       'NC', 'NC', 'NC', 'NC', 'NC', 'NC', 'NC', 'NC', 'NC', 'NC', 'NC',\n",
       "       'NC', 'NC', 'NC', 'NC', 'NC', 'NC', 'NC', 'NC', 'NC', 'NC', 'NC',\n",
       "       'NC', 'NC', 'NC', 'NC', 'NC', 'NC', 'NC', 'NC', 'NC', 'NC', 'NC',\n",
       "       'NC', 'NC', 'NC', 'NC', 'NC', 'NC', 'NC', 'NC', 'NC', 'NC', 'NC',\n",
       "       'NC', 'NC', 'NC', 'NC', 'NC', 'NC', 'NC', 'NC', 'NC', 'NC', 'NC',\n",
       "       'NC', 'NC', 'NC', 'NC', 'NC', 'NC', 'NC', 'NC', 'NC', 'NC', 'NC',\n",
       "       'NC', 'NC', 'NC', 'NC', 'NC'], dtype=object)"
      ]
     },
     "execution_count": 39,
     "metadata": {},
     "output_type": "execute_result"
    }
   ],
   "source": [
    "Ycap_pred_labels = label_encoder.inverse_transform(Ycap_pred)\n",
    "Ycap_pred_labels\n"
   ]
  },
  {
   "cell_type": "code",
   "execution_count": 40,
   "id": "2b0d8e7c",
   "metadata": {
    "execution": {
     "iopub.execute_input": "2024-05-30T18:48:55.453572Z",
     "iopub.status.busy": "2024-05-30T18:48:55.452916Z",
     "iopub.status.idle": "2024-05-30T18:48:55.459734Z",
     "shell.execute_reply": "2024-05-30T18:48:55.458495Z"
    },
    "papermill": {
     "duration": 0.035805,
     "end_time": "2024-05-30T18:48:55.461952",
     "exception": false,
     "start_time": "2024-05-30T18:48:55.426147",
     "status": "completed"
    },
    "tags": []
   },
   "outputs": [
    {
     "data": {
      "text/plain": [
       "(709,)"
      ]
     },
     "execution_count": 40,
     "metadata": {},
     "output_type": "execute_result"
    }
   ],
   "source": [
    "Ycap_pred_labels.shape"
   ]
  },
  {
   "cell_type": "code",
   "execution_count": 41,
   "id": "e75c0bc5",
   "metadata": {
    "execution": {
     "iopub.execute_input": "2024-05-30T18:48:55.514410Z",
     "iopub.status.busy": "2024-05-30T18:48:55.513750Z",
     "iopub.status.idle": "2024-05-30T18:48:55.520370Z",
     "shell.execute_reply": "2024-05-30T18:48:55.519358Z"
    },
    "papermill": {
     "duration": 0.035712,
     "end_time": "2024-05-30T18:48:55.522668",
     "exception": false,
     "start_time": "2024-05-30T18:48:55.486956",
     "status": "completed"
    },
    "tags": []
   },
   "outputs": [
    {
     "data": {
      "text/plain": [
       "(709,)"
      ]
     },
     "execution_count": 41,
     "metadata": {},
     "output_type": "execute_result"
    }
   ],
   "source": [
    "Y_pred.shape"
   ]
  },
  {
   "cell_type": "code",
   "execution_count": 42,
   "id": "bd0acaed",
   "metadata": {
    "execution": {
     "iopub.execute_input": "2024-05-30T18:48:55.577185Z",
     "iopub.status.busy": "2024-05-30T18:48:55.576481Z",
     "iopub.status.idle": "2024-05-30T18:48:55.583323Z",
     "shell.execute_reply": "2024-05-30T18:48:55.582244Z"
    },
    "papermill": {
     "duration": 0.036493,
     "end_time": "2024-05-30T18:48:55.585428",
     "exception": false,
     "start_time": "2024-05-30T18:48:55.548935",
     "status": "completed"
    },
    "tags": []
   },
   "outputs": [
    {
     "data": {
      "text/plain": [
       "(21616,)"
      ]
     },
     "execution_count": 42,
     "metadata": {},
     "output_type": "execute_result"
    }
   ],
   "source": [
    "data['match_id'].shape"
   ]
  },
  {
   "cell_type": "code",
   "execution_count": 43,
   "id": "8e73552b",
   "metadata": {
    "execution": {
     "iopub.execute_input": "2024-05-30T18:48:55.638506Z",
     "iopub.status.busy": "2024-05-30T18:48:55.637786Z",
     "iopub.status.idle": "2024-05-30T18:48:55.652604Z",
     "shell.execute_reply": "2024-05-30T18:48:55.651447Z"
    },
    "papermill": {
     "duration": 0.044051,
     "end_time": "2024-05-30T18:48:55.654841",
     "exception": false,
     "start_time": "2024-05-30T18:48:55.610790",
     "status": "completed"
    },
    "tags": []
   },
   "outputs": [
    {
     "data": {
      "text/html": [
       "<div>\n",
       "<style scoped>\n",
       "    .dataframe tbody tr th:only-of-type {\n",
       "        vertical-align: middle;\n",
       "    }\n",
       "\n",
       "    .dataframe tbody tr th {\n",
       "        vertical-align: top;\n",
       "    }\n",
       "\n",
       "    .dataframe thead th {\n",
       "        text-align: right;\n",
       "    }\n",
       "</style>\n",
       "<table border=\"1\" class=\"dataframe\">\n",
       "  <thead>\n",
       "    <tr style=\"text-align: right;\">\n",
       "      <th></th>\n",
       "      <th>match_id</th>\n",
       "      <th>Total_FP</th>\n",
       "      <th>Captain/Vice Captain</th>\n",
       "    </tr>\n",
       "  </thead>\n",
       "  <tbody>\n",
       "    <tr>\n",
       "      <th>0</th>\n",
       "      <td>8486</td>\n",
       "      <td>33.173251</td>\n",
       "      <td>NC</td>\n",
       "    </tr>\n",
       "    <tr>\n",
       "      <th>1</th>\n",
       "      <td>21272</td>\n",
       "      <td>40.218623</td>\n",
       "      <td>NC</td>\n",
       "    </tr>\n",
       "    <tr>\n",
       "      <th>2</th>\n",
       "      <td>16353</td>\n",
       "      <td>42.654335</td>\n",
       "      <td>NC</td>\n",
       "    </tr>\n",
       "    <tr>\n",
       "      <th>3</th>\n",
       "      <td>13436</td>\n",
       "      <td>39.128038</td>\n",
       "      <td>NC</td>\n",
       "    </tr>\n",
       "    <tr>\n",
       "      <th>4</th>\n",
       "      <td>1323</td>\n",
       "      <td>35.897366</td>\n",
       "      <td>NC</td>\n",
       "    </tr>\n",
       "  </tbody>\n",
       "</table>\n",
       "</div>"
      ],
      "text/plain": [
       "   match_id   Total_FP Captain/Vice Captain\n",
       "0      8486  33.173251                   NC\n",
       "1     21272  40.218623                   NC\n",
       "2     16353  42.654335                   NC\n",
       "3     13436  39.128038                   NC\n",
       "4      1323  35.897366                   NC"
      ]
     },
     "execution_count": 43,
     "metadata": {},
     "output_type": "execute_result"
    }
   ],
   "source": [
    "submission = pd.DataFrame({'match_id':cap_data_test['match_id'], 'Total_FP':Y_pred, 'Captain/Vice Captain':Ycap_pred_labels})\n",
    "submission = submission[['match_id', 'Total_FP', 'Captain/Vice Captain']]\n",
    "submission.head()"
   ]
  },
  {
   "cell_type": "code",
   "execution_count": 44,
   "id": "a81ba97e",
   "metadata": {
    "execution": {
     "iopub.execute_input": "2024-05-30T18:48:55.708505Z",
     "iopub.status.busy": "2024-05-30T18:48:55.707819Z",
     "iopub.status.idle": "2024-05-30T18:48:55.718753Z",
     "shell.execute_reply": "2024-05-30T18:48:55.717714Z"
    },
    "papermill": {
     "duration": 0.040846,
     "end_time": "2024-05-30T18:48:55.721198",
     "exception": false,
     "start_time": "2024-05-30T18:48:55.680352",
     "status": "completed"
    },
    "tags": []
   },
   "outputs": [],
   "source": [
    "submission.to_csv('/kaggle/working/submission.csv', index=False)"
   ]
  },
  {
   "cell_type": "markdown",
   "id": "25274da8",
   "metadata": {
    "papermill": {
     "duration": 0.025624,
     "end_time": "2024-05-30T18:48:55.772709",
     "exception": false,
     "start_time": "2024-05-30T18:48:55.747085",
     "status": "completed"
    },
    "tags": []
   },
   "source": []
  },
  {
   "cell_type": "code",
   "execution_count": 45,
   "id": "945ed794",
   "metadata": {
    "execution": {
     "iopub.execute_input": "2024-05-30T18:48:55.826649Z",
     "iopub.status.busy": "2024-05-30T18:48:55.826243Z",
     "iopub.status.idle": "2024-05-30T18:48:55.832101Z",
     "shell.execute_reply": "2024-05-30T18:48:55.830840Z"
    },
    "papermill": {
     "duration": 0.036367,
     "end_time": "2024-05-30T18:48:55.835083",
     "exception": false,
     "start_time": "2024-05-30T18:48:55.798716",
     "status": "completed"
    },
    "tags": []
   },
   "outputs": [
    {
     "name": "stdout",
     "output_type": "stream",
     "text": [
      "Submission CSV file has been created successfully.\n"
     ]
    }
   ],
   "source": [
    "import os\n",
    "if os.path.exists('submission.csv'):\n",
    "    print(\"Submission CSV file has been created successfully.\")\n",
    "else:\n",
    "    print(\"Error: Submission CSV file was not created.\")"
   ]
  },
  {
   "cell_type": "code",
   "execution_count": null,
   "id": "fd099e72",
   "metadata": {
    "papermill": {
     "duration": 0.026207,
     "end_time": "2024-05-30T18:48:55.887947",
     "exception": false,
     "start_time": "2024-05-30T18:48:55.861740",
     "status": "completed"
    },
    "tags": []
   },
   "outputs": [],
   "source": []
  }
 ],
 "metadata": {
  "kaggle": {
   "accelerator": "none",
   "dataSources": [
    {
     "databundleVersionId": 8619986,
     "sourceId": 80427,
     "sourceType": "competition"
    }
   ],
   "dockerImageVersionId": 30698,
   "isGpuEnabled": false,
   "isInternetEnabled": false,
   "language": "python",
   "sourceType": "notebook"
  },
  "kernelspec": {
   "display_name": "Python 3",
   "language": "python",
   "name": "python3"
  },
  "language_info": {
   "codemirror_mode": {
    "name": "ipython",
    "version": 3
   },
   "file_extension": ".py",
   "mimetype": "text/x-python",
   "name": "python",
   "nbconvert_exporter": "python",
   "pygments_lexer": "ipython3",
   "version": "3.10.13"
  },
  "papermill": {
   "default_parameters": {},
   "duration": 12.09871,
   "end_time": "2024-05-30T18:48:56.635651",
   "environment_variables": {},
   "exception": null,
   "input_path": "__notebook__.ipynb",
   "output_path": "__notebook__.ipynb",
   "parameters": {},
   "start_time": "2024-05-30T18:48:44.536941",
   "version": "2.5.0"
  }
 },
 "nbformat": 4,
 "nbformat_minor": 5
}
